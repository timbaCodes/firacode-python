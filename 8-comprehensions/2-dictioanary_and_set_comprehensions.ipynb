{
 "cells": [
  {
   "metadata": {
    "ExecuteTime": {
     "end_time": "2025-06-13T16:47:02.771556Z",
     "start_time": "2025-06-13T16:47:02.768882Z"
    }
   },
   "cell_type": "code",
   "source": [
    "widget_sales = [\n",
    "    {'name':'widget 1','sales':10},\n",
    "    {'name':'widget 2','sales':20},\n",
    "    {'name':'widget 3','sales':30},\n",
    "]"
   ],
   "id": "bcddee09b69a478f",
   "outputs": [],
   "execution_count": 1
  },
  {
   "metadata": {
    "ExecuteTime": {
     "end_time": "2025-06-13T16:48:58.720697Z",
     "start_time": "2025-06-13T16:48:58.713210Z"
    }
   },
   "cell_type": "code",
   "source": [
    "sales_by_widget = {}\n",
    "for d in widget_sales:\n",
    "    widget_name = d['name']\n",
    "    sales = d['sales']\n",
    "    sales_by_widget[widget_name] = sales\n",
    "\n",
    "sales_by_widget"
   ],
   "id": "32bde4dac43ca14d",
   "outputs": [
    {
     "data": {
      "text/plain": [
       "{'widget 1': 10, 'widget 2': 20, 'widget 3': 30}"
      ]
     },
     "execution_count": 3,
     "metadata": {},
     "output_type": "execute_result"
    }
   ],
   "execution_count": 3
  },
  {
   "metadata": {
    "ExecuteTime": {
     "end_time": "2025-06-13T16:50:19.740997Z",
     "start_time": "2025-06-13T16:50:19.734053Z"
    }
   },
   "cell_type": "code",
   "source": [
    "sales_by_widget = {}\n",
    "for d in widget_sales:\n",
    "    sales_by_widget[d['name']] = d['sales']\n",
    "\n",
    "sales_by_widget"
   ],
   "id": "c9bb8fbc48803348",
   "outputs": [
    {
     "data": {
      "text/plain": [
       "{'widget 1': 10, 'widget 2': 20, 'widget 3': 30}"
      ]
     },
     "execution_count": 4,
     "metadata": {},
     "output_type": "execute_result"
    }
   ],
   "execution_count": 4
  },
  {
   "metadata": {
    "ExecuteTime": {
     "end_time": "2025-06-13T16:51:53.918331Z",
     "start_time": "2025-06-13T16:51:53.915065Z"
    }
   },
   "cell_type": "code",
   "source": "sales_by_widget = {d['name']:d['sales'] for d in widget_sales}",
   "id": "1d8a509ab906e10d",
   "outputs": [],
   "execution_count": 7
  },
  {
   "metadata": {
    "ExecuteTime": {
     "end_time": "2025-06-13T16:51:55.607229Z",
     "start_time": "2025-06-13T16:51:55.599554Z"
    }
   },
   "cell_type": "code",
   "source": "sales_by_widget",
   "id": "81f4391ca699904b",
   "outputs": [
    {
     "data": {
      "text/plain": [
       "{'widget 1': 10, 'widget 2': 20, 'widget 3': 30}"
      ]
     },
     "execution_count": 8,
     "metadata": {},
     "output_type": "execute_result"
    }
   ],
   "execution_count": 8
  },
  {
   "metadata": {},
   "cell_type": "code",
   "outputs": [],
   "execution_count": null,
   "source": "",
   "id": "48499a6e5b476532"
  }
 ],
 "metadata": {},
 "nbformat": 4,
 "nbformat_minor": 5
}
