{
 "cells": [
  {
   "metadata": {
    "ExecuteTime": {
     "end_time": "2025-06-13T16:16:16.064466Z",
     "start_time": "2025-06-13T16:16:16.048118Z"
    }
   },
   "cell_type": "code",
   "source": "vectors = [(0,0), (0,1), (1,0), (1,1)]",
   "id": "1ce8fe660b0ba508",
   "outputs": [],
   "execution_count": 2
  },
  {
   "metadata": {
    "ExecuteTime": {
     "end_time": "2025-06-13T16:16:25.163299Z",
     "start_time": "2025-06-13T16:16:25.153428Z"
    }
   },
   "cell_type": "code",
   "source": "vectors",
   "id": "64dbdc383ada6438",
   "outputs": [
    {
     "data": {
      "text/plain": [
       "[(0, 0), (0, 1), (1, 0), (1, 1)]"
      ]
     },
     "execution_count": 3,
     "metadata": {},
     "output_type": "execute_result"
    }
   ],
   "execution_count": 3
  },
  {
   "metadata": {
    "ExecuteTime": {
     "end_time": "2025-06-13T16:16:36.956431Z",
     "start_time": "2025-06-13T16:16:36.951001Z"
    }
   },
   "cell_type": "code",
   "source": "from math import sqrt",
   "id": "56ef8c9c38b58bd2",
   "outputs": [],
   "execution_count": 4
  },
  {
   "metadata": {
    "ExecuteTime": {
     "end_time": "2025-06-13T16:18:05.830430Z",
     "start_time": "2025-06-13T16:18:05.825010Z"
    }
   },
   "cell_type": "code",
   "source": [
    "magnitudes = []\n",
    "\n",
    "for vector in vectors:\n",
    "    magnitude = sqrt(vector[0]**2 + vector[1]**2)\n",
    "    magnitudes.append(magnitude)\n",
    "\n",
    "print(magnitudes)"
   ],
   "id": "3276709303358426",
   "outputs": [
    {
     "name": "stdout",
     "output_type": "stream",
     "text": [
      "[0.0, 1.0, 1.0, 1.4142135623730951]\n"
     ]
    }
   ],
   "execution_count": 5
  },
  {
   "metadata": {
    "ExecuteTime": {
     "end_time": "2025-06-13T16:19:20.153859Z",
     "start_time": "2025-06-13T16:19:20.149016Z"
    }
   },
   "cell_type": "code",
   "source": "magnitudes = [sqrt(vector[0]**2 + vector[1]**2) for vector in vectors]",
   "id": "b77466874cffec36",
   "outputs": [],
   "execution_count": 6
  },
  {
   "metadata": {
    "ExecuteTime": {
     "end_time": "2025-06-13T16:19:22.583150Z",
     "start_time": "2025-06-13T16:19:22.576489Z"
    }
   },
   "cell_type": "code",
   "source": "magnitudes",
   "id": "2ebdcfa3de6f260f",
   "outputs": [
    {
     "data": {
      "text/plain": [
       "[0.0, 1.0, 1.0, 1.4142135623730951]"
      ]
     },
     "execution_count": 7,
     "metadata": {},
     "output_type": "execute_result"
    }
   ],
   "execution_count": 7
  },
  {
   "metadata": {},
   "cell_type": "code",
   "outputs": [],
   "execution_count": null,
   "source": "",
   "id": "89b43f1598131613"
  }
 ],
 "metadata": {},
 "nbformat": 4,
 "nbformat_minor": 5
}
