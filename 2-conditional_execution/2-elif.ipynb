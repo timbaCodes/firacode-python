{
 "cells": [
  {
   "cell_type": "code",
   "execution_count": 1,
   "id": "d888bafc",
   "metadata": {},
   "outputs": [
    {
     "name": "stdout",
     "output_type": "stream",
     "text": [
      "C\n"
     ]
    }
   ],
   "source": [
    "grade = 72\n",
    "\n",
    "if grade >= 90:\n",
    "    letter_grade = 'A'\n",
    "else:\n",
    "    if grade >= 80:\n",
    "        letter_grade = 'B'\n",
    "    else:\n",
    "        if grade >= 70:\n",
    "            letter_grade = 'C'\n",
    "        else:\n",
    "            if grade >= 60:\n",
    "                letter_grade = 'D'\n",
    "            else:\n",
    "                letter_grade = 'F'\n",
    "                \n",
    "print(letter_grade)"
   ]
  },
  {
   "cell_type": "code",
   "execution_count": 2,
   "id": "3941233a",
   "metadata": {},
   "outputs": [
    {
     "name": "stdout",
     "output_type": "stream",
     "text": [
      "Passed\n"
     ]
    }
   ],
   "source": [
    "grade = 72\n",
    "\n",
    "if grade >= 80:\n",
    "    print('Passed with distinction')\n",
    "else:\n",
    "    if grade >= 70:\n",
    "        print('Passed')\n",
    "    else:\n",
    "        print('Failed')"
   ]
  },
  {
   "cell_type": "code",
   "execution_count": 3,
   "id": "94e84bf2",
   "metadata": {},
   "outputs": [
    {
     "name": "stdout",
     "output_type": "stream",
     "text": [
      "Passed\n"
     ]
    }
   ],
   "source": [
    "grade = 72\n",
    "\n",
    "if grade >= 80:\n",
    "    print('Passed with distinction')\n",
    "elif grade >= 70:\n",
    "    print('Passed')\n",
    "else:\n",
    "    print('Failed')"
   ]
  },
  {
   "cell_type": "code",
   "execution_count": 4,
   "id": "94e10163",
   "metadata": {},
   "outputs": [
    {
     "name": "stdout",
     "output_type": "stream",
     "text": [
      "C\n"
     ]
    }
   ],
   "source": [
    "grade = 72\n",
    "\n",
    "if grade >= 90:\n",
    "    letter_grade = 'A'\n",
    "elif grade >= 80:\n",
    "    letter_grade = 'B'\n",
    "elif grade >= 70:\n",
    "    letter_grade = 'C'\n",
    "elif grade >= 60:\n",
    "    letter_grade = 'D'\n",
    "else:\n",
    "    letter_grade = 'F'\n",
    "\n",
    "print(letter_grade)"
   ]
  },
  {
   "cell_type": "code",
   "execution_count": null,
   "id": "5951713b",
   "metadata": {},
   "outputs": [],
   "source": []
  }
 ],
 "metadata": {
  "kernelspec": {
   "display_name": "py3133",
   "language": "python",
   "name": "python3"
  },
  "language_info": {
   "codemirror_mode": {
    "name": "ipython",
    "version": 3
   },
   "file_extension": ".py",
   "mimetype": "text/x-python",
   "name": "python",
   "nbconvert_exporter": "python",
   "pygments_lexer": "ipython3",
   "version": "3.13.3"
  }
 },
 "nbformat": 4,
 "nbformat_minor": 5
}
