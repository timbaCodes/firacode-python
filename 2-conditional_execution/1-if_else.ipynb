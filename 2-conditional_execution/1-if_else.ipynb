{
 "cells": [
  {
   "cell_type": "code",
   "execution_count": 1,
   "id": "c54c0515",
   "metadata": {},
   "outputs": [
    {
     "name": "stdout",
     "output_type": "stream",
     "text": [
      "1 is less than 2\n"
     ]
    }
   ],
   "source": [
    "if 1 < 2 :\n",
    "    print('1 is less than 2')"
   ]
  },
  {
   "cell_type": "code",
   "execution_count": null,
   "id": "c0bf881a",
   "metadata": {},
   "outputs": [
    {
     "name": "stdout",
     "output_type": "stream",
     "text": [
      "block - line 1\n",
      "block - line 2\n",
      "block - line 3\n",
      "next line\n"
     ]
    }
   ],
   "source": [
    "if 1 < 2 :\n",
    "    print('block - line 1')\n",
    "    print('block - line 2')\n",
    "    print('block - line 3')\n",
    "    \n",
    "print('next line')\n"
   ]
  },
  {
   "cell_type": "code",
   "execution_count": 3,
   "id": "e57f1d31",
   "metadata": {},
   "outputs": [
    {
     "name": "stdout",
     "output_type": "stream",
     "text": [
      "1 is less than 2\n"
     ]
    }
   ],
   "source": [
    "if 1 < 2 : \n",
    "    print('1 is less than 2')\n",
    "else:\n",
    "    print('1 is not less than 2')"
   ]
  },
  {
   "cell_type": "code",
   "execution_count": null,
   "id": "4b9bbbca",
   "metadata": {},
   "outputs": [],
   "source": []
  }
 ],
 "metadata": {
  "kernelspec": {
   "display_name": "py3133",
   "language": "python",
   "name": "python3"
  },
  "language_info": {
   "codemirror_mode": {
    "name": "ipython",
    "version": 3
   },
   "file_extension": ".py",
   "mimetype": "text/x-python",
   "name": "python",
   "nbconvert_exporter": "python",
   "pygments_lexer": "ipython3",
   "version": "3.13.3"
  }
 },
 "nbformat": 4,
 "nbformat_minor": 5
}
