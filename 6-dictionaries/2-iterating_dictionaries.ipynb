{
 "cells": [
  {
   "metadata": {
    "ExecuteTime": {
     "end_time": "2025-06-12T09:54:50.608393Z",
     "start_time": "2025-06-12T09:54:50.606347Z"
    }
   },
   "cell_type": "code",
   "source": [
    "d = {\n",
    "    'key1': '1',\n",
    "    'key2': '2',\n",
    "    3.14: 'pi',\n",
    "}"
   ],
   "id": "cb288b4634711464",
   "outputs": [],
   "execution_count": 1
  },
  {
   "metadata": {
    "ExecuteTime": {
     "end_time": "2025-06-12T09:54:51.826338Z",
     "start_time": "2025-06-12T09:54:51.821823Z"
    }
   },
   "cell_type": "code",
   "source": "d",
   "id": "9730a5266a42c39e",
   "outputs": [
    {
     "data": {
      "text/plain": [
       "{'key1': '1', 'key2': '2', 3.14: 'pi'}"
      ]
     },
     "execution_count": 2,
     "metadata": {},
     "output_type": "execute_result"
    }
   ],
   "execution_count": 2
  },
  {
   "metadata": {
    "ExecuteTime": {
     "end_time": "2025-06-12T09:55:05.525564Z",
     "start_time": "2025-06-12T09:55:05.522683Z"
    }
   },
   "cell_type": "code",
   "source": [
    "for k in d:\n",
    "    print(k)"
   ],
   "id": "c87f87ae8887bf18",
   "outputs": [
    {
     "name": "stdout",
     "output_type": "stream",
     "text": [
      "key1\n",
      "key2\n",
      "3.14\n"
     ]
    }
   ],
   "execution_count": 3
  },
  {
   "metadata": {
    "ExecuteTime": {
     "end_time": "2025-06-12T09:56:25.027995Z",
     "start_time": "2025-06-12T09:56:25.025639Z"
    }
   },
   "cell_type": "code",
   "source": [
    "for v in d.values():\n",
    "    print(v)"
   ],
   "id": "5a2b822f2aa2b38f",
   "outputs": [
    {
     "name": "stdout",
     "output_type": "stream",
     "text": [
      "1\n",
      "2\n",
      "pi\n"
     ]
    }
   ],
   "execution_count": 4
  },
  {
   "metadata": {
    "ExecuteTime": {
     "end_time": "2025-06-12T09:57:06.744790Z",
     "start_time": "2025-06-12T09:57:06.741693Z"
    }
   },
   "cell_type": "code",
   "source": [
    "for t in d.items():\n",
    "    print(t)"
   ],
   "id": "edfecb7c9fee5eeb",
   "outputs": [
    {
     "name": "stdout",
     "output_type": "stream",
     "text": [
      "('key1', '1')\n",
      "('key2', '2')\n",
      "(3.14, 'pi')\n"
     ]
    }
   ],
   "execution_count": 5
  },
  {
   "metadata": {
    "ExecuteTime": {
     "end_time": "2025-06-12T09:57:48.575249Z",
     "start_time": "2025-06-12T09:57:48.570310Z"
    }
   },
   "cell_type": "code",
   "source": [
    "for key, value in d.items():\n",
    "    print(key, value)"
   ],
   "id": "157ddd5fa3c74f55",
   "outputs": [
    {
     "name": "stdout",
     "output_type": "stream",
     "text": [
      "key1 1\n",
      "key2 2\n",
      "3.14 pi\n"
     ]
    }
   ],
   "execution_count": 6
  },
  {
   "metadata": {},
   "cell_type": "code",
   "outputs": [],
   "execution_count": null,
   "source": "",
   "id": "a2106029988fa723"
  }
 ],
 "metadata": {},
 "nbformat": 4,
 "nbformat_minor": 5
}
