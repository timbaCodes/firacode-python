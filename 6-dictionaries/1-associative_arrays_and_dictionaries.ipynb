{
 "cells": [
  {
   "metadata": {
    "ExecuteTime": {
     "end_time": "2025-06-12T09:26:28.602483Z",
     "start_time": "2025-06-12T09:26:28.599420Z"
    }
   },
   "cell_type": "code",
   "source": "d = {'a': 1, 'b': 2, 'c': 3}",
   "id": "3069ca7239d1a489",
   "outputs": [],
   "execution_count": 1
  },
  {
   "metadata": {
    "ExecuteTime": {
     "end_time": "2025-06-12T09:26:30.751967Z",
     "start_time": "2025-06-12T09:26:30.747609Z"
    }
   },
   "cell_type": "code",
   "source": "d",
   "id": "409de531e2399bfa",
   "outputs": [
    {
     "data": {
      "text/plain": [
       "{'a': 1, 'b': 2, 'c': 3}"
      ]
     },
     "execution_count": 2,
     "metadata": {},
     "output_type": "execute_result"
    }
   ],
   "execution_count": 2
  },
  {
   "metadata": {
    "ExecuteTime": {
     "end_time": "2025-06-12T09:26:58.152473Z",
     "start_time": "2025-06-12T09:26:58.150555Z"
    }
   },
   "cell_type": "code",
   "source": [
    "person = {\n",
    "    'first_name': 'John',\n",
    "    'last_name': 'Doe',\n",
    "    'year_born': 1978,\n",
    "}"
   ],
   "id": "df884ea768271b0b",
   "outputs": [],
   "execution_count": 3
  },
  {
   "metadata": {
    "ExecuteTime": {
     "end_time": "2025-06-12T09:27:00.148180Z",
     "start_time": "2025-06-12T09:27:00.145016Z"
    }
   },
   "cell_type": "code",
   "source": "person",
   "id": "76905f26e36426ee",
   "outputs": [
    {
     "data": {
      "text/plain": [
       "{'first_name': 'John', 'last_name': 'Doe', 'year_born': 1978}"
      ]
     },
     "execution_count": 4,
     "metadata": {},
     "output_type": "execute_result"
    }
   ],
   "execution_count": 4
  },
  {
   "metadata": {
    "ExecuteTime": {
     "end_time": "2025-06-12T09:27:05.176888Z",
     "start_time": "2025-06-12T09:27:05.174114Z"
    }
   },
   "cell_type": "code",
   "source": "person['first_name']",
   "id": "c6cb7d12b39c440c",
   "outputs": [
    {
     "data": {
      "text/plain": [
       "'John'"
      ]
     },
     "execution_count": 5,
     "metadata": {},
     "output_type": "execute_result"
    }
   ],
   "execution_count": 5
  },
  {
   "metadata": {
    "ExecuteTime": {
     "end_time": "2025-06-12T09:27:37.264236Z",
     "start_time": "2025-06-12T09:27:37.261681Z"
    }
   },
   "cell_type": "code",
   "source": "person['year_born'] = 2016",
   "id": "d357dc012493a942",
   "outputs": [],
   "execution_count": 6
  },
  {
   "metadata": {
    "ExecuteTime": {
     "end_time": "2025-06-12T09:27:39.769321Z",
     "start_time": "2025-06-12T09:27:39.766040Z"
    }
   },
   "cell_type": "code",
   "source": "person",
   "id": "23f2e3675a3c5a4a",
   "outputs": [
    {
     "data": {
      "text/plain": [
       "{'first_name': 'John', 'last_name': 'Doe', 'year_born': 2016}"
      ]
     },
     "execution_count": 7,
     "metadata": {},
     "output_type": "execute_result"
    }
   ],
   "execution_count": 7
  },
  {
   "metadata": {
    "ExecuteTime": {
     "end_time": "2025-06-12T09:28:08.738243Z",
     "start_time": "2025-06-12T09:28:08.735885Z"
    }
   },
   "cell_type": "code",
   "source": "person['month_born'] ='September'",
   "id": "c30165b5107634f6",
   "outputs": [],
   "execution_count": 8
  },
  {
   "metadata": {
    "ExecuteTime": {
     "end_time": "2025-06-12T09:28:11.386589Z",
     "start_time": "2025-06-12T09:28:11.383196Z"
    }
   },
   "cell_type": "code",
   "source": "person",
   "id": "921df8e29d3c1693",
   "outputs": [
    {
     "data": {
      "text/plain": [
       "{'first_name': 'John',\n",
       " 'last_name': 'Doe',\n",
       " 'year_born': 2016,\n",
       " 'month_born': 'September'}"
      ]
     },
     "execution_count": 9,
     "metadata": {},
     "output_type": "execute_result"
    }
   ],
   "execution_count": 9
  },
  {
   "metadata": {
    "ExecuteTime": {
     "end_time": "2025-06-12T09:29:37.619611Z",
     "start_time": "2025-06-12T09:29:37.617228Z"
    }
   },
   "cell_type": "code",
   "source": "d = {3.14:'pi',2:'even','prime':7}",
   "id": "450059b1963e0a80",
   "outputs": [],
   "execution_count": 10
  },
  {
   "metadata": {
    "ExecuteTime": {
     "end_time": "2025-06-12T09:29:38.736585Z",
     "start_time": "2025-06-12T09:29:38.733742Z"
    }
   },
   "cell_type": "code",
   "source": "d",
   "id": "5770370b3c89cc19",
   "outputs": [
    {
     "data": {
      "text/plain": [
       "{3.14: 'pi', 2: 'even', 'prime': 7}"
      ]
     },
     "execution_count": 11,
     "metadata": {},
     "output_type": "execute_result"
    }
   ],
   "execution_count": 11
  },
  {
   "metadata": {
    "ExecuteTime": {
     "end_time": "2025-06-12T09:29:51.095381Z",
     "start_time": "2025-06-12T09:29:51.092090Z"
    }
   },
   "cell_type": "code",
   "source": "d[3.14]",
   "id": "2f1318dcee9a2e4f",
   "outputs": [
    {
     "data": {
      "text/plain": [
       "'pi'"
      ]
     },
     "execution_count": 12,
     "metadata": {},
     "output_type": "execute_result"
    }
   ],
   "execution_count": 12
  },
  {
   "metadata": {
    "ExecuteTime": {
     "end_time": "2025-06-12T09:29:58.651006Z",
     "start_time": "2025-06-12T09:29:58.647537Z"
    }
   },
   "cell_type": "code",
   "source": "d[2]",
   "id": "5c3baf8962ded16f",
   "outputs": [
    {
     "data": {
      "text/plain": [
       "'even'"
      ]
     },
     "execution_count": 13,
     "metadata": {},
     "output_type": "execute_result"
    }
   ],
   "execution_count": 13
  },
  {
   "metadata": {
    "ExecuteTime": {
     "end_time": "2025-06-12T09:36:04.821726Z",
     "start_time": "2025-06-12T09:36:04.817013Z"
    }
   },
   "cell_type": "code",
   "source": "globals()",
   "id": "4ca38b48bf235afe",
   "outputs": [
    {
     "data": {
      "text/plain": [
       "{'__name__': '__main__',\n",
       " '__doc__': 'Automatically created module for IPython interactive environment',\n",
       " '__package__': None,\n",
       " '__loader__': None,\n",
       " '__spec__': None,\n",
       " '__builtin__': <module 'builtins' (built-in)>,\n",
       " '__builtins__': <module 'builtins' (built-in)>,\n",
       " '_ih': ['',\n",
       "  \"d = {'a': 1, 'b': 2, 'c': 3}\",\n",
       "  'd',\n",
       "  \"person = {\\n    'first_name': 'John',\\n    'last_name': 'Doe',\\n    'year_born': 1978,\\n}\",\n",
       "  'person',\n",
       "  \"person['first_name']\",\n",
       "  \"person['year_born'] = 2016\",\n",
       "  'person',\n",
       "  \"person['month_born'] ='September'\",\n",
       "  'person',\n",
       "  \"d = {3.14:'pi',2:'even','prime':7}\",\n",
       "  'd',\n",
       "  'd[3.14]',\n",
       "  'd[2]',\n",
       "  'globals()'],\n",
       " '_oh': {2: {'a': 1, 'b': 2, 'c': 3},\n",
       "  4: {'first_name': 'John',\n",
       "   'last_name': 'Doe',\n",
       "   'year_born': 2016,\n",
       "   'month_born': 'September'},\n",
       "  5: 'John',\n",
       "  7: {'first_name': 'John',\n",
       "   'last_name': 'Doe',\n",
       "   'year_born': 2016,\n",
       "   'month_born': 'September'},\n",
       "  9: {'first_name': 'John',\n",
       "   'last_name': 'Doe',\n",
       "   'year_born': 2016,\n",
       "   'month_born': 'September'},\n",
       "  11: {3.14: 'pi', 2: 'even', 'prime': 7},\n",
       "  12: 'pi',\n",
       "  13: 'even'},\n",
       " '_dh': [PosixPath('/home/firas/Downloads/pyfrad/6-dictionaries')],\n",
       " 'In': ['',\n",
       "  \"d = {'a': 1, 'b': 2, 'c': 3}\",\n",
       "  'd',\n",
       "  \"person = {\\n    'first_name': 'John',\\n    'last_name': 'Doe',\\n    'year_born': 1978,\\n}\",\n",
       "  'person',\n",
       "  \"person['first_name']\",\n",
       "  \"person['year_born'] = 2016\",\n",
       "  'person',\n",
       "  \"person['month_born'] ='September'\",\n",
       "  'person',\n",
       "  \"d = {3.14:'pi',2:'even','prime':7}\",\n",
       "  'd',\n",
       "  'd[3.14]',\n",
       "  'd[2]',\n",
       "  'globals()'],\n",
       " 'Out': {2: {'a': 1, 'b': 2, 'c': 3},\n",
       "  4: {'first_name': 'John',\n",
       "   'last_name': 'Doe',\n",
       "   'year_born': 2016,\n",
       "   'month_born': 'September'},\n",
       "  5: 'John',\n",
       "  7: {'first_name': 'John',\n",
       "   'last_name': 'Doe',\n",
       "   'year_born': 2016,\n",
       "   'month_born': 'September'},\n",
       "  9: {'first_name': 'John',\n",
       "   'last_name': 'Doe',\n",
       "   'year_born': 2016,\n",
       "   'month_born': 'September'},\n",
       "  11: {3.14: 'pi', 2: 'even', 'prime': 7},\n",
       "  12: 'pi',\n",
       "  13: 'even'},\n",
       " 'get_ipython': <bound method InteractiveShell.get_ipython of <ipykernel.zmqshell.ZMQInteractiveShell object at 0x71cd9c5ce660>>,\n",
       " 'exit': <IPython.core.autocall.ZMQExitAutocall at 0x71cd9c469d30>,\n",
       " 'quit': <IPython.core.autocall.ZMQExitAutocall at 0x71cd9c469d30>,\n",
       " 'open': <function _io.open(file, mode='r', buffering=-1, encoding=None, errors=None, newline=None, closefd=True, opener=None)>,\n",
       " '_': 'even',\n",
       " '__': 'pi',\n",
       " '___': {3.14: 'pi', 2: 'even', 'prime': 7},\n",
       " '__session__': '/home/firas/Downloads/pyfrad/6-dictionaries/1-associative_arrays_and_dictionaries.ipynb',\n",
       " '_i': 'd[2]',\n",
       " '_ii': 'd[3.14]',\n",
       " '_iii': 'd',\n",
       " '_i1': \"d = {'a': 1, 'b': 2, 'c': 3}\",\n",
       " 'd': {3.14: 'pi', 2: 'even', 'prime': 7},\n",
       " 'sys': <module 'sys' (built-in)>,\n",
       " 'remove_imported_pydev_package': <function pydev_jupyter_utils.remove_imported_pydev_package()>,\n",
       " '_pydevd_bundle': <module '_pydevd_bundle' from '/snap/pycharm-professional/496/plugins/python-ce/helpers/pydev/_pydevd_bundle/__init__.py'>,\n",
       " 'pydev_jupyter_vars': <module 'pydev_jupyter_vars' from '/snap/pycharm-professional/496/plugins/python-ce/helpers/jupyter_debug/pydev_jupyter_vars.py'>,\n",
       " '_i2': 'd',\n",
       " '_2': {'a': 1, 'b': 2, 'c': 3},\n",
       " '_i3': \"person = {\\n    'first_name': 'John',\\n    'last_name': 'Doe',\\n    'year_born': 1978,\\n}\",\n",
       " 'person': {'first_name': 'John',\n",
       "  'last_name': 'Doe',\n",
       "  'year_born': 2016,\n",
       "  'month_born': 'September'},\n",
       " '_i4': 'person',\n",
       " '_4': {'first_name': 'John',\n",
       "  'last_name': 'Doe',\n",
       "  'year_born': 2016,\n",
       "  'month_born': 'September'},\n",
       " '_i5': \"person['first_name']\",\n",
       " '_5': 'John',\n",
       " '_i6': \"person['year_born'] = 2016\",\n",
       " '_i7': 'person',\n",
       " '_7': {'first_name': 'John',\n",
       "  'last_name': 'Doe',\n",
       "  'year_born': 2016,\n",
       "  'month_born': 'September'},\n",
       " '_i8': \"person['month_born'] ='September'\",\n",
       " '_i9': 'person',\n",
       " '_9': {'first_name': 'John',\n",
       "  'last_name': 'Doe',\n",
       "  'year_born': 2016,\n",
       "  'month_born': 'September'},\n",
       " '_i10': \"d = {3.14:'pi',2:'even','prime':7}\",\n",
       " '_i11': 'd',\n",
       " '_11': {3.14: 'pi', 2: 'even', 'prime': 7},\n",
       " '_i12': 'd[3.14]',\n",
       " '_12': 'pi',\n",
       " '_i13': 'd[2]',\n",
       " '_13': 'even',\n",
       " '_i14': 'globals()'}"
      ]
     },
     "execution_count": 14,
     "metadata": {},
     "output_type": "execute_result"
    }
   ],
   "execution_count": 14
  },
  {
   "metadata": {},
   "cell_type": "code",
   "outputs": [],
   "execution_count": null,
   "source": "",
   "id": "dc926b41576a64aa"
  }
 ],
 "metadata": {},
 "nbformat": 4,
 "nbformat_minor": 5
}
