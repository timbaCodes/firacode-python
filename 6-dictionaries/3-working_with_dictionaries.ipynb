{
 "cells": [
  {
   "metadata": {
    "ExecuteTime": {
     "end_time": "2025-06-12T10:23:59.957910Z",
     "start_time": "2025-06-12T10:23:59.954017Z"
    }
   },
   "cell_type": "code",
   "source": [
    "d = {\n",
    "    'open':100,\n",
    "    'high':101,\n",
    "    'low':102,\n",
    "    'close':103,\n",
    "}"
   ],
   "id": "7291cf20d39f7ea5",
   "outputs": [],
   "execution_count": 8
  },
  {
   "metadata": {
    "ExecuteTime": {
     "end_time": "2025-06-12T10:16:21.101700Z",
     "start_time": "2025-06-12T10:16:21.094410Z"
    }
   },
   "cell_type": "code",
   "source": "d",
   "id": "c5c434630e4ce32f",
   "outputs": [
    {
     "data": {
      "text/plain": [
       "{'open': 100, 'high': 101, 'low': 102, 'close': 103}"
      ]
     },
     "execution_count": 2,
     "metadata": {},
     "output_type": "execute_result"
    }
   ],
   "execution_count": 2
  },
  {
   "metadata": {
    "ExecuteTime": {
     "end_time": "2025-06-12T10:16:42.224100Z",
     "start_time": "2025-06-12T10:16:42.220685Z"
    }
   },
   "cell_type": "code",
   "source": "'open' in d",
   "id": "211d7b08bbbe8185",
   "outputs": [
    {
     "data": {
      "text/plain": [
       "True"
      ]
     },
     "execution_count": 3,
     "metadata": {},
     "output_type": "execute_result"
    }
   ],
   "execution_count": 3
  },
  {
   "metadata": {
    "ExecuteTime": {
     "end_time": "2025-06-12T10:16:59.598853Z",
     "start_time": "2025-06-12T10:16:59.595869Z"
    }
   },
   "cell_type": "code",
   "source": "'open' not in d",
   "id": "274d1a058c295010",
   "outputs": [
    {
     "data": {
      "text/plain": [
       "False"
      ]
     },
     "execution_count": 4,
     "metadata": {},
     "output_type": "execute_result"
    }
   ],
   "execution_count": 4
  },
  {
   "metadata": {
    "ExecuteTime": {
     "end_time": "2025-06-12T10:23:38.299489Z",
     "start_time": "2025-06-12T10:23:38.296787Z"
    }
   },
   "cell_type": "code",
   "source": "d",
   "id": "c137c60816249cf0",
   "outputs": [
    {
     "data": {
      "text/plain": [
       "{'open': 100, 'high': 101, 'low': 102, 'close': 103}"
      ]
     },
     "execution_count": 5,
     "metadata": {},
     "output_type": "execute_result"
    }
   ],
   "execution_count": 5
  },
  {
   "metadata": {
    "ExecuteTime": {
     "end_time": "2025-06-12T10:23:42.113439Z",
     "start_time": "2025-06-12T10:23:42.110735Z"
    }
   },
   "cell_type": "code",
   "source": "d.clear()",
   "id": "908e08e46489c17",
   "outputs": [],
   "execution_count": 6
  },
  {
   "metadata": {
    "ExecuteTime": {
     "end_time": "2025-06-12T10:23:43.370394Z",
     "start_time": "2025-06-12T10:23:43.367505Z"
    }
   },
   "cell_type": "code",
   "source": "d",
   "id": "e6b5cda9f82668ac",
   "outputs": [
    {
     "data": {
      "text/plain": [
       "{}"
      ]
     },
     "execution_count": 7,
     "metadata": {},
     "output_type": "execute_result"
    }
   ],
   "execution_count": 7
  },
  {
   "metadata": {
    "ExecuteTime": {
     "end_time": "2025-06-12T10:24:05.506900Z",
     "start_time": "2025-06-12T10:24:05.504208Z"
    }
   },
   "cell_type": "code",
   "source": "len(d)",
   "id": "1babf2308ee9c0d3",
   "outputs": [
    {
     "data": {
      "text/plain": [
       "4"
      ]
     },
     "execution_count": 9,
     "metadata": {},
     "output_type": "execute_result"
    }
   ],
   "execution_count": 9
  },
  {
   "metadata": {
    "ExecuteTime": {
     "end_time": "2025-06-12T10:24:42.015442Z",
     "start_time": "2025-06-12T10:24:42.013350Z"
    }
   },
   "cell_type": "code",
   "source": "data_copy = d.copy()",
   "id": "f5ba7fc8dc18e846",
   "outputs": [],
   "execution_count": 10
  },
  {
   "metadata": {
    "ExecuteTime": {
     "end_time": "2025-06-12T10:24:44.510220Z",
     "start_time": "2025-06-12T10:24:44.507191Z"
    }
   },
   "cell_type": "code",
   "source": "data_copy",
   "id": "2e614f2d6dd7e66a",
   "outputs": [
    {
     "data": {
      "text/plain": [
       "{'open': 100, 'high': 101, 'low': 102, 'close': 103}"
      ]
     },
     "execution_count": 11,
     "metadata": {},
     "output_type": "execute_result"
    }
   ],
   "execution_count": 11
  },
  {
   "metadata": {},
   "cell_type": "code",
   "outputs": [],
   "execution_count": null,
   "source": "",
   "id": "4b0c54a3970d5212"
  }
 ],
 "metadata": {},
 "nbformat": 4,
 "nbformat_minor": 5
}
