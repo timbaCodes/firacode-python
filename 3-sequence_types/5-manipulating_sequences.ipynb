{
 "cells": [
  {
   "cell_type": "code",
   "execution_count": 1,
   "id": "0770ba1e",
   "metadata": {},
   "outputs": [],
   "source": [
    "l = [10,20,3,40,50]"
   ]
  },
  {
   "cell_type": "code",
   "execution_count": 2,
   "id": "9f936d72",
   "metadata": {},
   "outputs": [],
   "source": [
    "l[2] = 30"
   ]
  },
  {
   "cell_type": "code",
   "execution_count": 3,
   "id": "88de3585",
   "metadata": {},
   "outputs": [
    {
     "data": {
      "text/plain": [
       "[10, 20, 30, 40, 50]"
      ]
     },
     "execution_count": 3,
     "metadata": {},
     "output_type": "execute_result"
    }
   ],
   "source": [
    "l"
   ]
  },
  {
   "cell_type": "code",
   "execution_count": 4,
   "id": "2a5b8ac8",
   "metadata": {},
   "outputs": [],
   "source": [
    "l = [1,20,30,5,6]"
   ]
  },
  {
   "cell_type": "code",
   "execution_count": 5,
   "id": "39769644",
   "metadata": {},
   "outputs": [],
   "source": [
    "l[1:3] = (2,3,4)"
   ]
  },
  {
   "cell_type": "code",
   "execution_count": 6,
   "id": "698af92e",
   "metadata": {},
   "outputs": [
    {
     "data": {
      "text/plain": [
       "[1, 2, 3, 4, 5, 6]"
      ]
     },
     "execution_count": 6,
     "metadata": {},
     "output_type": "execute_result"
    }
   ],
   "source": [
    "l"
   ]
  },
  {
   "cell_type": "code",
   "execution_count": 7,
   "id": "47f24e9e",
   "metadata": {},
   "outputs": [
    {
     "data": {
      "text/plain": [
       "[2, 3]"
      ]
     },
     "execution_count": 7,
     "metadata": {},
     "output_type": "execute_result"
    }
   ],
   "source": [
    "l[1:3]"
   ]
  },
  {
   "cell_type": "code",
   "execution_count": 8,
   "id": "a298d5da",
   "metadata": {},
   "outputs": [],
   "source": [
    "l[1:3] = 'python'"
   ]
  },
  {
   "cell_type": "code",
   "execution_count": 9,
   "id": "7c43595a",
   "metadata": {},
   "outputs": [
    {
     "data": {
      "text/plain": [
       "[1, 'p', 'y', 't', 'h', 'o', 'n', 4, 5, 6]"
      ]
     },
     "execution_count": 9,
     "metadata": {},
     "output_type": "execute_result"
    }
   ],
   "source": [
    "l"
   ]
  },
  {
   "cell_type": "code",
   "execution_count": 10,
   "id": "aac12d01",
   "metadata": {},
   "outputs": [],
   "source": [
    "l  = [1,2,3,4,5,6,7,8]"
   ]
  },
  {
   "cell_type": "code",
   "execution_count": 11,
   "id": "18d64e90",
   "metadata": {},
   "outputs": [
    {
     "data": {
      "text/plain": [
       "[2, 4, 6, 8]"
      ]
     },
     "execution_count": 11,
     "metadata": {},
     "output_type": "execute_result"
    }
   ],
   "source": [
    "l[1::2]"
   ]
  },
  {
   "cell_type": "code",
   "execution_count": 12,
   "id": "2a0969e1",
   "metadata": {},
   "outputs": [],
   "source": [
    "l[1::2] = 20,40,60,80"
   ]
  },
  {
   "cell_type": "code",
   "execution_count": 13,
   "id": "3b02c4ca",
   "metadata": {},
   "outputs": [
    {
     "data": {
      "text/plain": [
       "[1, 20, 3, 40, 5, 60, 7, 80]"
      ]
     },
     "execution_count": 13,
     "metadata": {},
     "output_type": "execute_result"
    }
   ],
   "source": [
    "l"
   ]
  },
  {
   "cell_type": "code",
   "execution_count": null,
   "id": "26777bd0",
   "metadata": {},
   "outputs": [],
   "source": []
  }
 ],
 "metadata": {
  "kernelspec": {
   "display_name": "py3133",
   "language": "python",
   "name": "python3"
  },
  "language_info": {
   "codemirror_mode": {
    "name": "ipython",
    "version": 3
   },
   "file_extension": ".py",
   "mimetype": "text/x-python",
   "name": "python",
   "nbconvert_exporter": "python",
   "pygments_lexer": "ipython3",
   "version": "3.13.3"
  }
 },
 "nbformat": 4,
 "nbformat_minor": 5
}
