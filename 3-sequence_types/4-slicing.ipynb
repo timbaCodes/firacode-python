{
 "cells": [
  {
   "cell_type": "code",
   "execution_count": 1,
   "id": "54db4424",
   "metadata": {},
   "outputs": [],
   "source": [
    "s = 'python rocks!'"
   ]
  },
  {
   "cell_type": "code",
   "execution_count": 2,
   "id": "9fa234e6",
   "metadata": {},
   "outputs": [
    {
     "data": {
      "text/plain": [
       "'python rocks!'"
      ]
     },
     "execution_count": 2,
     "metadata": {},
     "output_type": "execute_result"
    }
   ],
   "source": [
    "s"
   ]
  },
  {
   "cell_type": "code",
   "execution_count": 3,
   "id": "0e1e741d",
   "metadata": {},
   "outputs": [
    {
     "data": {
      "text/plain": [
       "'n'"
      ]
     },
     "execution_count": 3,
     "metadata": {},
     "output_type": "execute_result"
    }
   ],
   "source": [
    "s[5]"
   ]
  },
  {
   "cell_type": "code",
   "execution_count": 4,
   "id": "157cb850",
   "metadata": {},
   "outputs": [
    {
     "data": {
      "text/plain": [
       "'pytho'"
      ]
     },
     "execution_count": 4,
     "metadata": {},
     "output_type": "execute_result"
    }
   ],
   "source": [
    "s[0:5]"
   ]
  },
  {
   "cell_type": "code",
   "execution_count": 5,
   "id": "5be1c71e",
   "metadata": {},
   "outputs": [
    {
     "data": {
      "text/plain": [
       "'python'"
      ]
     },
     "execution_count": 5,
     "metadata": {},
     "output_type": "execute_result"
    }
   ],
   "source": [
    "s[0:6]"
   ]
  },
  {
   "cell_type": "code",
   "execution_count": 6,
   "id": "775dbdc6",
   "metadata": {},
   "outputs": [],
   "source": [
    "t = 1,2,3,4"
   ]
  },
  {
   "cell_type": "code",
   "execution_count": 7,
   "id": "193f6b08",
   "metadata": {},
   "outputs": [
    {
     "data": {
      "text/plain": [
       "(1, 2, 3, 4)"
      ]
     },
     "execution_count": 7,
     "metadata": {},
     "output_type": "execute_result"
    }
   ],
   "source": [
    "t"
   ]
  },
  {
   "cell_type": "code",
   "execution_count": 8,
   "id": "de8e94d1",
   "metadata": {},
   "outputs": [
    {
     "data": {
      "text/plain": [
       "(2, 3, 4)"
      ]
     },
     "execution_count": 8,
     "metadata": {},
     "output_type": "execute_result"
    }
   ],
   "source": [
    "t[1:4]"
   ]
  },
  {
   "cell_type": "code",
   "id": "c6f825d7",
   "metadata": {
    "ExecuteTime": {
     "end_time": "2025-06-07T17:12:57.351295Z",
     "start_time": "2025-06-07T17:12:57.347892Z"
    }
   },
   "source": [
    "l = [1,2,3,4]"
   ],
   "outputs": [],
   "execution_count": 2
  },
  {
   "cell_type": "code",
   "id": "8ff066bc",
   "metadata": {
    "ExecuteTime": {
     "end_time": "2025-06-07T17:13:06.719500Z",
     "start_time": "2025-06-07T17:13:06.712294Z"
    }
   },
   "source": [
    "l[1:4]"
   ],
   "outputs": [
    {
     "data": {
      "text/plain": [
       "[2, 3, 4]"
      ]
     },
     "execution_count": 3,
     "metadata": {},
     "output_type": "execute_result"
    }
   ],
   "execution_count": 3
  },
  {
   "cell_type": "code",
   "execution_count": null,
   "id": "acb36ad1",
   "metadata": {},
   "outputs": [],
   "source": []
  }
 ],
 "metadata": {
  "kernelspec": {
   "display_name": "py3133",
   "language": "python",
   "name": "python3"
  },
  "language_info": {
   "codemirror_mode": {
    "name": "ipython",
    "version": 3
   },
   "file_extension": ".py",
   "mimetype": "text/x-python",
   "name": "python",
   "nbconvert_exporter": "python",
   "pygments_lexer": "ipython3",
   "version": "3.13.3"
  }
 },
 "nbformat": 4,
 "nbformat_minor": 5
}
