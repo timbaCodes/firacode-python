{
 "cells": [
  {
   "cell_type": "code",
   "id": "dc7bb7a9",
   "metadata": {
    "ExecuteTime": {
     "end_time": "2025-06-10T12:26:04.571971Z",
     "start_time": "2025-06-10T12:26:04.560776Z"
    }
   },
   "source": [
    "rate = 5.0,5.12"
   ],
   "outputs": [],
   "execution_count": 1
  },
  {
   "cell_type": "code",
   "id": "051a30dd",
   "metadata": {
    "ExecuteTime": {
     "end_time": "2025-06-10T12:26:29.649327Z",
     "start_time": "2025-06-10T12:26:29.641529Z"
    }
   },
   "source": [
    "rate[0]"
   ],
   "outputs": [
    {
     "data": {
      "text/plain": [
       "5.0"
      ]
     },
     "execution_count": 2,
     "metadata": {},
     "output_type": "execute_result"
    }
   ],
   "execution_count": 2
  },
  {
   "cell_type": "code",
   "id": "1d010b5b",
   "metadata": {
    "ExecuteTime": {
     "end_time": "2025-06-10T12:26:32.718102Z",
     "start_time": "2025-06-10T12:26:32.715592Z"
    }
   },
   "source": [
    "apr = rate[0]\n",
    "apy = rate[1]"
   ],
   "outputs": [],
   "execution_count": 3
  },
  {
   "cell_type": "code",
   "id": "666d28be",
   "metadata": {
    "ExecuteTime": {
     "end_time": "2025-06-10T12:26:36.576264Z",
     "start_time": "2025-06-10T12:26:36.573143Z"
    }
   },
   "source": [
    "apr"
   ],
   "outputs": [
    {
     "data": {
      "text/plain": [
       "5.0"
      ]
     },
     "execution_count": 4,
     "metadata": {},
     "output_type": "execute_result"
    }
   ],
   "execution_count": 4
  },
  {
   "cell_type": "code",
   "id": "9ee8aeda",
   "metadata": {
    "ExecuteTime": {
     "end_time": "2025-06-10T12:26:46.874908Z",
     "start_time": "2025-06-10T12:26:46.871404Z"
    }
   },
   "source": [
    "apy"
   ],
   "outputs": [
    {
     "data": {
      "text/plain": [
       "5.12"
      ]
     },
     "execution_count": 5,
     "metadata": {},
     "output_type": "execute_result"
    }
   ],
   "execution_count": 5
  },
  {
   "cell_type": "code",
   "id": "43d62ed6",
   "metadata": {
    "ExecuteTime": {
     "end_time": "2025-06-10T12:26:48.158802Z",
     "start_time": "2025-06-10T12:26:48.153626Z"
    }
   },
   "source": [
    "apr , apy"
   ],
   "outputs": [
    {
     "data": {
      "text/plain": [
       "(5.0, 5.12)"
      ]
     },
     "execution_count": 6,
     "metadata": {},
     "output_type": "execute_result"
    }
   ],
   "execution_count": 6
  },
  {
   "cell_type": "code",
   "id": "e2aa4d2f",
   "metadata": {
    "ExecuteTime": {
     "end_time": "2025-06-10T12:26:50.403650Z",
     "start_time": "2025-06-10T12:26:50.401055Z"
    }
   },
   "source": [
    "apr , apy = rate"
   ],
   "outputs": [],
   "execution_count": 7
  },
  {
   "cell_type": "code",
   "id": "6cf61e57",
   "metadata": {
    "ExecuteTime": {
     "end_time": "2025-06-10T12:27:01.154926Z",
     "start_time": "2025-06-10T12:27:01.151920Z"
    }
   },
   "source": [
    "apr"
   ],
   "outputs": [
    {
     "data": {
      "text/plain": [
       "5.0"
      ]
     },
     "execution_count": 8,
     "metadata": {},
     "output_type": "execute_result"
    }
   ],
   "execution_count": 8
  },
  {
   "cell_type": "code",
   "id": "db86595c",
   "metadata": {
    "ExecuteTime": {
     "end_time": "2025-06-10T12:27:04.037464Z",
     "start_time": "2025-06-10T12:27:04.035029Z"
    }
   },
   "source": [
    "apy"
   ],
   "outputs": [
    {
     "data": {
      "text/plain": [
       "5.12"
      ]
     },
     "execution_count": 9,
     "metadata": {},
     "output_type": "execute_result"
    }
   ],
   "execution_count": 9
  },
  {
   "cell_type": "code",
   "id": "d3d4dae1",
   "metadata": {
    "ExecuteTime": {
     "end_time": "2025-06-10T12:27:12.874061Z",
     "start_time": "2025-06-10T12:27:12.870252Z"
    }
   },
   "source": [
    "a , b ,c = 10 , 3.14  , 'abc'"
   ],
   "outputs": [],
   "execution_count": 10
  },
  {
   "cell_type": "code",
   "id": "957582dd",
   "metadata": {
    "ExecuteTime": {
     "end_time": "2025-06-10T12:27:17.981370Z",
     "start_time": "2025-06-10T12:27:17.976948Z"
    }
   },
   "source": [
    "a"
   ],
   "outputs": [
    {
     "data": {
      "text/plain": [
       "10"
      ]
     },
     "execution_count": 11,
     "metadata": {},
     "output_type": "execute_result"
    }
   ],
   "execution_count": 11
  },
  {
   "cell_type": "code",
   "id": "39b95729",
   "metadata": {
    "ExecuteTime": {
     "end_time": "2025-06-10T12:27:19.210532Z",
     "start_time": "2025-06-10T12:27:19.208007Z"
    }
   },
   "source": [
    "b"
   ],
   "outputs": [
    {
     "data": {
      "text/plain": [
       "3.14"
      ]
     },
     "execution_count": 12,
     "metadata": {},
     "output_type": "execute_result"
    }
   ],
   "execution_count": 12
  },
  {
   "cell_type": "code",
   "id": "998a8e04",
   "metadata": {
    "ExecuteTime": {
     "end_time": "2025-06-10T12:27:20.162411Z",
     "start_time": "2025-06-10T12:27:20.159640Z"
    }
   },
   "source": [
    "c"
   ],
   "outputs": [
    {
     "data": {
      "text/plain": [
       "'abc'"
      ]
     },
     "execution_count": 13,
     "metadata": {},
     "output_type": "execute_result"
    }
   ],
   "execution_count": 13
  },
  {
   "cell_type": "code",
   "id": "a380810d",
   "metadata": {
    "ExecuteTime": {
     "end_time": "2025-06-10T12:27:22.223422Z",
     "start_time": "2025-06-10T12:27:22.220946Z"
    }
   },
   "source": [
    "x,y,  z = 'abc'"
   ],
   "outputs": [],
   "execution_count": 14
  },
  {
   "cell_type": "code",
   "id": "c4a8ec53",
   "metadata": {
    "ExecuteTime": {
     "end_time": "2025-06-10T12:27:24.164826Z",
     "start_time": "2025-06-10T12:27:24.161691Z"
    }
   },
   "source": [
    "x"
   ],
   "outputs": [
    {
     "data": {
      "text/plain": [
       "'a'"
      ]
     },
     "execution_count": 15,
     "metadata": {},
     "output_type": "execute_result"
    }
   ],
   "execution_count": 15
  },
  {
   "cell_type": "code",
   "id": "554974ab",
   "metadata": {
    "ExecuteTime": {
     "end_time": "2025-06-10T12:27:24.920102Z",
     "start_time": "2025-06-10T12:27:24.916149Z"
    }
   },
   "source": [
    "y"
   ],
   "outputs": [
    {
     "data": {
      "text/plain": [
       "'b'"
      ]
     },
     "execution_count": 16,
     "metadata": {},
     "output_type": "execute_result"
    }
   ],
   "execution_count": 16
  },
  {
   "cell_type": "code",
   "id": "6364cf3d",
   "metadata": {
    "ExecuteTime": {
     "end_time": "2025-06-10T12:27:25.629593Z",
     "start_time": "2025-06-10T12:27:25.626203Z"
    }
   },
   "source": [
    "z"
   ],
   "outputs": [
    {
     "data": {
      "text/plain": [
       "'c'"
      ]
     },
     "execution_count": 17,
     "metadata": {},
     "output_type": "execute_result"
    }
   ],
   "execution_count": 17
  },
  {
   "cell_type": "code",
   "execution_count": null,
   "id": "206227d5",
   "metadata": {},
   "outputs": [],
   "source": []
  }
 ],
 "metadata": {
  "kernelspec": {
   "display_name": "py3133",
   "language": "python",
   "name": "python3"
  },
  "language_info": {
   "codemirror_mode": {
    "name": "ipython",
    "version": 3
   },
   "file_extension": ".py",
   "mimetype": "text/x-python",
   "name": "python",
   "nbconvert_exporter": "python",
   "pygments_lexer": "ipython3",
   "version": "3.13.3"
  }
 },
 "nbformat": 4,
 "nbformat_minor": 5
}
