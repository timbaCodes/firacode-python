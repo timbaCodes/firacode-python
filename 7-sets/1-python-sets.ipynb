{
 "cells": [
  {
   "metadata": {
    "ExecuteTime": {
     "end_time": "2025-06-13T12:03:25.101159Z",
     "start_time": "2025-06-13T12:03:25.098198Z"
    }
   },
   "cell_type": "code",
   "source": "s = {'a','b','c'}",
   "id": "24eaa569ab93545c",
   "outputs": [],
   "execution_count": 1
  },
  {
   "metadata": {
    "ExecuteTime": {
     "end_time": "2025-06-13T12:03:26.980939Z",
     "start_time": "2025-06-13T12:03:26.975056Z"
    }
   },
   "cell_type": "code",
   "source": "type(s)",
   "id": "e9bb821e0ee512ae",
   "outputs": [
    {
     "data": {
      "text/plain": [
       "set"
      ]
     },
     "execution_count": 2,
     "metadata": {},
     "output_type": "execute_result"
    }
   ],
   "execution_count": 2
  },
  {
   "metadata": {
    "ExecuteTime": {
     "end_time": "2025-06-13T12:03:45.950515Z",
     "start_time": "2025-06-13T12:03:45.948195Z"
    }
   },
   "cell_type": "code",
   "source": "s = set(['a','b','c'])",
   "id": "ce6d30a7d1d53db0",
   "outputs": [],
   "execution_count": 3
  },
  {
   "metadata": {
    "ExecuteTime": {
     "end_time": "2025-06-13T12:03:47.520338Z",
     "start_time": "2025-06-13T12:03:47.517003Z"
    }
   },
   "cell_type": "code",
   "source": "s",
   "id": "4d4a2d5fe65abc56",
   "outputs": [
    {
     "data": {
      "text/plain": [
       "{'a', 'b', 'c'}"
      ]
     },
     "execution_count": 4,
     "metadata": {},
     "output_type": "execute_result"
    }
   ],
   "execution_count": 4
  },
  {
   "metadata": {
    "ExecuteTime": {
     "end_time": "2025-06-13T12:04:05.793758Z",
     "start_time": "2025-06-13T12:04:05.791796Z"
    }
   },
   "cell_type": "code",
   "source": "s = set('abc')",
   "id": "81ee40391f3bfc05",
   "outputs": [],
   "execution_count": 5
  },
  {
   "metadata": {
    "ExecuteTime": {
     "end_time": "2025-06-13T12:04:07.387525Z",
     "start_time": "2025-06-13T12:04:07.385059Z"
    }
   },
   "cell_type": "code",
   "source": "s",
   "id": "4c32b0abce28628e",
   "outputs": [
    {
     "data": {
      "text/plain": [
       "{'a', 'b', 'c'}"
      ]
     },
     "execution_count": 6,
     "metadata": {},
     "output_type": "execute_result"
    }
   ],
   "execution_count": 6
  },
  {
   "metadata": {
    "ExecuteTime": {
     "end_time": "2025-06-13T12:04:15.895958Z",
     "start_time": "2025-06-13T12:04:15.893769Z"
    }
   },
   "cell_type": "code",
   "source": "s= set('python')",
   "id": "e9157edc69c87191",
   "outputs": [],
   "execution_count": 7
  },
  {
   "metadata": {
    "ExecuteTime": {
     "end_time": "2025-06-13T12:04:17.616379Z",
     "start_time": "2025-06-13T12:04:17.612870Z"
    }
   },
   "cell_type": "code",
   "source": "s",
   "id": "1cb4024e30c1f70f",
   "outputs": [
    {
     "data": {
      "text/plain": [
       "{'h', 'n', 'o', 'p', 't', 'y'}"
      ]
     },
     "execution_count": 8,
     "metadata": {},
     "output_type": "execute_result"
    }
   ],
   "execution_count": 8
  },
  {
   "metadata": {},
   "cell_type": "code",
   "outputs": [],
   "execution_count": null,
   "source": "",
   "id": "320cc400f1b375ff"
  }
 ],
 "metadata": {},
 "nbformat": 4,
 "nbformat_minor": 5
}
