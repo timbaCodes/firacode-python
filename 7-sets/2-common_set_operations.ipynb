{
 "cells": [
  {
   "metadata": {
    "ExecuteTime": {
     "end_time": "2025-06-13T13:11:32.970179Z",
     "start_time": "2025-06-13T13:11:32.967813Z"
    }
   },
   "cell_type": "code",
   "source": [
    "s1= set('abc')\n",
    "s2= {True,False}\n",
    "s3= {'a',100,200}"
   ],
   "id": "1d0fd1ee26ae01c7",
   "outputs": [],
   "execution_count": 1
  },
  {
   "metadata": {
    "ExecuteTime": {
     "end_time": "2025-06-13T13:11:45.841826Z",
     "start_time": "2025-06-13T13:11:45.837331Z"
    }
   },
   "cell_type": "code",
   "source": "s1.isdisjoint(s2)",
   "id": "4d67b20dd8b5eb03",
   "outputs": [
    {
     "data": {
      "text/plain": [
       "True"
      ]
     },
     "execution_count": 2,
     "metadata": {},
     "output_type": "execute_result"
    }
   ],
   "execution_count": 2
  },
  {
   "metadata": {
    "ExecuteTime": {
     "end_time": "2025-06-13T13:11:53.188935Z",
     "start_time": "2025-06-13T13:11:53.185494Z"
    }
   },
   "cell_type": "code",
   "source": "s1",
   "id": "2de3a5742866321e",
   "outputs": [
    {
     "data": {
      "text/plain": [
       "{'a', 'b', 'c'}"
      ]
     },
     "execution_count": 3,
     "metadata": {},
     "output_type": "execute_result"
    }
   ],
   "execution_count": 3
  },
  {
   "metadata": {
    "ExecuteTime": {
     "end_time": "2025-06-13T13:11:57.667462Z",
     "start_time": "2025-06-13T13:11:57.664158Z"
    }
   },
   "cell_type": "code",
   "source": "s3",
   "id": "9c448d390245da70",
   "outputs": [
    {
     "data": {
      "text/plain": [
       "{100, 200, 'a'}"
      ]
     },
     "execution_count": 4,
     "metadata": {},
     "output_type": "execute_result"
    }
   ],
   "execution_count": 4
  },
  {
   "metadata": {
    "ExecuteTime": {
     "end_time": "2025-06-13T13:12:06.037853Z",
     "start_time": "2025-06-13T13:12:06.034343Z"
    }
   },
   "cell_type": "code",
   "source": "s1.issubset(s3)",
   "id": "d2a60f6a29cbbee2",
   "outputs": [
    {
     "data": {
      "text/plain": [
       "False"
      ]
     },
     "execution_count": 5,
     "metadata": {},
     "output_type": "execute_result"
    }
   ],
   "execution_count": 5
  },
  {
   "metadata": {
    "ExecuteTime": {
     "end_time": "2025-06-13T13:12:23.466310Z",
     "start_time": "2025-06-13T13:12:23.463843Z"
    }
   },
   "cell_type": "code",
   "source": "s= set()",
   "id": "2aaae75810637fe8",
   "outputs": [],
   "execution_count": 6
  },
  {
   "metadata": {
    "ExecuteTime": {
     "end_time": "2025-06-13T13:12:32.283042Z",
     "start_time": "2025-06-13T13:12:32.280497Z"
    }
   },
   "cell_type": "code",
   "source": "s.add(100)",
   "id": "7a651d8525d8fec6",
   "outputs": [],
   "execution_count": 7
  },
  {
   "metadata": {
    "ExecuteTime": {
     "end_time": "2025-06-13T13:12:34.579052Z",
     "start_time": "2025-06-13T13:12:34.574719Z"
    }
   },
   "cell_type": "code",
   "source": "s",
   "id": "9043f36c81e1d11",
   "outputs": [
    {
     "data": {
      "text/plain": [
       "{100}"
      ]
     },
     "execution_count": 8,
     "metadata": {},
     "output_type": "execute_result"
    }
   ],
   "execution_count": 8
  },
  {
   "metadata": {
    "ExecuteTime": {
     "end_time": "2025-06-13T13:12:41.123498Z",
     "start_time": "2025-06-13T13:12:41.121457Z"
    }
   },
   "cell_type": "code",
   "source": "s.add(200)",
   "id": "fed5c86ae5d3b934",
   "outputs": [],
   "execution_count": 9
  },
  {
   "metadata": {
    "ExecuteTime": {
     "end_time": "2025-06-13T13:12:44.010213Z",
     "start_time": "2025-06-13T13:12:44.007764Z"
    }
   },
   "cell_type": "code",
   "source": "s",
   "id": "661239fc61c489b1",
   "outputs": [
    {
     "data": {
      "text/plain": [
       "{100, 200}"
      ]
     },
     "execution_count": 10,
     "metadata": {},
     "output_type": "execute_result"
    }
   ],
   "execution_count": 10
  },
  {
   "metadata": {
    "ExecuteTime": {
     "end_time": "2025-06-13T13:13:24.435689Z",
     "start_time": "2025-06-13T13:13:24.433302Z"
    }
   },
   "cell_type": "code",
   "source": "s = set('abc')",
   "id": "66466271a2d1897f",
   "outputs": [],
   "execution_count": 11
  },
  {
   "metadata": {
    "ExecuteTime": {
     "end_time": "2025-06-13T13:13:36.731046Z",
     "start_time": "2025-06-13T13:13:36.726014Z"
    }
   },
   "cell_type": "code",
   "source": "s",
   "id": "f1251d57d8f29a41",
   "outputs": [
    {
     "data": {
      "text/plain": [
       "{'a', 'b', 'c'}"
      ]
     },
     "execution_count": 13,
     "metadata": {},
     "output_type": "execute_result"
    }
   ],
   "execution_count": 13
  },
  {
   "metadata": {
    "ExecuteTime": {
     "end_time": "2025-06-13T13:13:46.962361Z",
     "start_time": "2025-06-13T13:13:46.959518Z"
    }
   },
   "cell_type": "code",
   "source": "s.remove('a')",
   "id": "250a107afd30fd46",
   "outputs": [],
   "execution_count": 14
  },
  {
   "metadata": {
    "ExecuteTime": {
     "end_time": "2025-06-13T13:13:48.727016Z",
     "start_time": "2025-06-13T13:13:48.724162Z"
    }
   },
   "cell_type": "code",
   "source": "s",
   "id": "eabf93dd786f3a33",
   "outputs": [
    {
     "data": {
      "text/plain": [
       "{'b', 'c'}"
      ]
     },
     "execution_count": 15,
     "metadata": {},
     "output_type": "execute_result"
    }
   ],
   "execution_count": 15
  },
  {
   "metadata": {
    "ExecuteTime": {
     "end_time": "2025-06-13T13:14:04.240928Z",
     "start_time": "2025-06-13T13:14:04.238383Z"
    }
   },
   "cell_type": "code",
   "source": "s.discard('b')",
   "id": "a970b4b13f3b1e93",
   "outputs": [],
   "execution_count": 16
  },
  {
   "metadata": {
    "ExecuteTime": {
     "end_time": "2025-06-13T13:14:05.398187Z",
     "start_time": "2025-06-13T13:14:05.395539Z"
    }
   },
   "cell_type": "code",
   "source": "s",
   "id": "105057a174690703",
   "outputs": [
    {
     "data": {
      "text/plain": [
       "{'c'}"
      ]
     },
     "execution_count": 17,
     "metadata": {},
     "output_type": "execute_result"
    }
   ],
   "execution_count": 17
  },
  {
   "metadata": {
    "ExecuteTime": {
     "end_time": "2025-06-13T13:14:12.957957Z",
     "start_time": "2025-06-13T13:14:12.955816Z"
    }
   },
   "cell_type": "code",
   "source": "s.discard('z')",
   "id": "131f7e21a206175a",
   "outputs": [],
   "execution_count": 18
  },
  {
   "metadata": {
    "ExecuteTime": {
     "end_time": "2025-06-13T13:14:14.133047Z",
     "start_time": "2025-06-13T13:14:14.130447Z"
    }
   },
   "cell_type": "code",
   "source": "s",
   "id": "3249b7189de915b9",
   "outputs": [
    {
     "data": {
      "text/plain": [
       "{'c'}"
      ]
     },
     "execution_count": 19,
     "metadata": {},
     "output_type": "execute_result"
    }
   ],
   "execution_count": 19
  },
  {
   "metadata": {
    "ExecuteTime": {
     "end_time": "2025-06-13T13:14:18.771963Z",
     "start_time": "2025-06-13T13:14:18.755747Z"
    }
   },
   "cell_type": "code",
   "source": "s.remove('z')",
   "id": "60ca89fbd1b18e87",
   "outputs": [
    {
     "ename": "KeyError",
     "evalue": "'z'",
     "output_type": "error",
     "traceback": [
      "\u001B[31m---------------------------------------------------------------------------\u001B[39m",
      "\u001B[31mKeyError\u001B[39m                                  Traceback (most recent call last)",
      "\u001B[36mCell\u001B[39m\u001B[36m \u001B[39m\u001B[32mIn[20]\u001B[39m\u001B[32m, line 1\u001B[39m\n\u001B[32m----> \u001B[39m\u001B[32m1\u001B[39m \u001B[43ms\u001B[49m\u001B[43m.\u001B[49m\u001B[43mremove\u001B[49m\u001B[43m(\u001B[49m\u001B[33;43m'\u001B[39;49m\u001B[33;43mz\u001B[39;49m\u001B[33;43m'\u001B[39;49m\u001B[43m)\u001B[49m\n",
      "\u001B[31mKeyError\u001B[39m: 'z'"
     ]
    }
   ],
   "execution_count": 20
  },
  {
   "metadata": {},
   "cell_type": "code",
   "outputs": [],
   "execution_count": null,
   "source": "",
   "id": "f2d00037f1d78bad"
  }
 ],
 "metadata": {},
 "nbformat": 4,
 "nbformat_minor": 5
}
