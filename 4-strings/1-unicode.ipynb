{
 "cells": [
  {
   "metadata": {
    "ExecuteTime": {
     "end_time": "2025-06-10T12:53:53.104605Z",
     "start_time": "2025-06-10T12:53:53.100877Z"
    }
   },
   "cell_type": "code",
   "source": "ord('A')",
   "id": "af0e5f2ab79e015b",
   "outputs": [
    {
     "data": {
      "text/plain": [
       "65"
      ]
     },
     "execution_count": 1,
     "metadata": {},
     "output_type": "execute_result"
    }
   ],
   "execution_count": 1
  },
  {
   "metadata": {
    "ExecuteTime": {
     "end_time": "2025-06-10T12:59:56.147341Z",
     "start_time": "2025-06-10T12:59:56.143602Z"
    }
   },
   "cell_type": "code",
   "source": "ord('α')",
   "id": "a9cff1d84a301e86",
   "outputs": [
    {
     "data": {
      "text/plain": [
       "945"
      ]
     },
     "execution_count": 2,
     "metadata": {},
     "output_type": "execute_result"
    }
   ],
   "execution_count": 2
  },
  {
   "metadata": {
    "ExecuteTime": {
     "end_time": "2025-06-10T13:00:17.034510Z",
     "start_time": "2025-06-10T13:00:17.031609Z"
    }
   },
   "cell_type": "code",
   "source": "hex(ord('A'))",
   "id": "4f085a41ec4a7618",
   "outputs": [
    {
     "data": {
      "text/plain": [
       "'0x41'"
      ]
     },
     "execution_count": 3,
     "metadata": {},
     "output_type": "execute_result"
    }
   ],
   "execution_count": 3
  },
  {
   "metadata": {
    "ExecuteTime": {
     "end_time": "2025-06-10T13:03:03.001413Z",
     "start_time": "2025-06-10T13:03:02.998404Z"
    }
   },
   "cell_type": "code",
   "source": "hex(ord('α'))",
   "id": "8bb78db8024a25a2",
   "outputs": [
    {
     "data": {
      "text/plain": [
       "'0x3b1'"
      ]
     },
     "execution_count": 4,
     "metadata": {},
     "output_type": "execute_result"
    }
   ],
   "execution_count": 4
  },
  {
   "metadata": {
    "ExecuteTime": {
     "end_time": "2025-06-10T13:03:54.060418Z",
     "start_time": "2025-06-10T13:03:54.056885Z"
    }
   },
   "cell_type": "code",
   "source": "int('3B1',16)",
   "id": "9a9f3fdd489d7c1",
   "outputs": [
    {
     "data": {
      "text/plain": [
       "945"
      ]
     },
     "execution_count": 5,
     "metadata": {},
     "output_type": "execute_result"
    }
   ],
   "execution_count": 5
  }
 ],
 "metadata": {},
 "nbformat": 4,
 "nbformat_minor": 5
}
