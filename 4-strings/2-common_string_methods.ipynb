{
 "cells": [
  {
   "metadata": {
    "ExecuteTime": {
     "end_time": "2025-06-10T13:43:17.462256Z",
     "start_time": "2025-06-10T13:43:17.459535Z"
    }
   },
   "cell_type": "code",
   "source": "message = 'the definitive guide to python'",
   "id": "9abbaebc6b97048c",
   "outputs": [],
   "execution_count": 4
  },
  {
   "metadata": {
    "ExecuteTime": {
     "end_time": "2025-06-10T13:43:30.589608Z",
     "start_time": "2025-06-10T13:43:30.585790Z"
    }
   },
   "cell_type": "code",
   "source": "message.upper()",
   "id": "8f420644a53ede60",
   "outputs": [
    {
     "data": {
      "text/plain": [
       "'THE DEFINITIVE GUIDE TO PYTHON'"
      ]
     },
     "execution_count": 5,
     "metadata": {},
     "output_type": "execute_result"
    }
   ],
   "execution_count": 5
  },
  {
   "metadata": {
    "ExecuteTime": {
     "end_time": "2025-06-10T13:43:34.632717Z",
     "start_time": "2025-06-10T13:43:34.629395Z"
    }
   },
   "cell_type": "code",
   "source": "message.lower()",
   "id": "2f61bf5213c5c6dd",
   "outputs": [
    {
     "data": {
      "text/plain": [
       "'the definitive guide to python'"
      ]
     },
     "execution_count": 6,
     "metadata": {},
     "output_type": "execute_result"
    }
   ],
   "execution_count": 6
  },
  {
   "metadata": {
    "ExecuteTime": {
     "end_time": "2025-06-10T13:43:42.799356Z",
     "start_time": "2025-06-10T13:43:42.796184Z"
    }
   },
   "cell_type": "code",
   "source": "message.title()",
   "id": "e6baf6d7283d182d",
   "outputs": [
    {
     "data": {
      "text/plain": [
       "'The Definitive Guide To Python'"
      ]
     },
     "execution_count": 7,
     "metadata": {},
     "output_type": "execute_result"
    }
   ],
   "execution_count": 7
  },
  {
   "metadata": {
    "ExecuteTime": {
     "end_time": "2025-06-10T13:44:18.495745Z",
     "start_time": "2025-06-10T13:44:18.492739Z"
    }
   },
   "cell_type": "code",
   "source": "'acb' == 'ABC'",
   "id": "ef2ef4a636f3bad1",
   "outputs": [
    {
     "data": {
      "text/plain": [
       "False"
      ]
     },
     "execution_count": 8,
     "metadata": {},
     "output_type": "execute_result"
    }
   ],
   "execution_count": 8
  },
  {
   "metadata": {
    "ExecuteTime": {
     "end_time": "2025-06-10T13:44:50.085198Z",
     "start_time": "2025-06-10T13:44:50.082487Z"
    }
   },
   "cell_type": "code",
   "source": "'abc'.lower() == 'ABC'.lower()",
   "id": "c236e95e5cb7a240",
   "outputs": [
    {
     "data": {
      "text/plain": [
       "True"
      ]
     },
     "execution_count": 9,
     "metadata": {},
     "output_type": "execute_result"
    }
   ],
   "execution_count": 9
  },
  {
   "metadata": {},
   "cell_type": "markdown",
   "source": "Stripping",
   "id": "b024994395c86005"
  },
  {
   "metadata": {
    "ExecuteTime": {
     "end_time": "2025-06-10T13:59:37.506810Z",
     "start_time": "2025-06-10T13:59:37.502976Z"
    }
   },
   "cell_type": "code",
   "source": "name = 'Peter '",
   "id": "dc7d30a7821cd14b",
   "outputs": [],
   "execution_count": 11
  },
  {
   "metadata": {
    "ExecuteTime": {
     "end_time": "2025-06-10T14:00:03.962810Z",
     "start_time": "2025-06-10T14:00:03.958830Z"
    }
   },
   "cell_type": "code",
   "source": "name.rstrip(\" \")",
   "id": "1af064571177da9a",
   "outputs": [
    {
     "data": {
      "text/plain": [
       "'Peter'"
      ]
     },
     "execution_count": 15,
     "metadata": {},
     "output_type": "execute_result"
    }
   ],
   "execution_count": 15
  },
  {
   "metadata": {
    "ExecuteTime": {
     "end_time": "2025-06-10T14:00:36.939800Z",
     "start_time": "2025-06-10T14:00:36.937897Z"
    }
   },
   "cell_type": "code",
   "source": "name = '\\t Peter\\tJones\\t'",
   "id": "815177f87cc38451",
   "outputs": [],
   "execution_count": 16
  },
  {
   "metadata": {
    "ExecuteTime": {
     "end_time": "2025-06-10T14:00:45.420042Z",
     "start_time": "2025-06-10T14:00:45.417457Z"
    }
   },
   "cell_type": "code",
   "source": "name",
   "id": "25590bc78ed6f31d",
   "outputs": [
    {
     "data": {
      "text/plain": [
       "'\\t Peter\\tJones\\t'"
      ]
     },
     "execution_count": 18,
     "metadata": {},
     "output_type": "execute_result"
    }
   ],
   "execution_count": 18
  },
  {
   "metadata": {
    "ExecuteTime": {
     "end_time": "2025-06-10T14:00:54.182354Z",
     "start_time": "2025-06-10T14:00:54.180006Z"
    }
   },
   "cell_type": "code",
   "source": "print(name)",
   "id": "3397fdcec36a683a",
   "outputs": [
    {
     "name": "stdout",
     "output_type": "stream",
     "text": [
      "\t Peter\tJones\t\n"
     ]
    }
   ],
   "execution_count": 19
  },
  {
   "metadata": {
    "ExecuteTime": {
     "end_time": "2025-06-10T14:01:06.078300Z",
     "start_time": "2025-06-10T14:01:06.074839Z"
    }
   },
   "cell_type": "code",
   "source": "name.strip()",
   "id": "51d11753ebe6b37d",
   "outputs": [
    {
     "data": {
      "text/plain": [
       "'Peter\\tJones'"
      ]
     },
     "execution_count": 20,
     "metadata": {},
     "output_type": "execute_result"
    }
   ],
   "execution_count": 20
  },
  {
   "metadata": {
    "ExecuteTime": {
     "end_time": "2025-06-10T14:01:53.802465Z",
     "start_time": "2025-06-10T14:01:53.800372Z"
    }
   },
   "cell_type": "code",
   "source": "s = 'ababPYTHONabab'",
   "id": "60a5270a0ea8dba1",
   "outputs": [],
   "execution_count": 21
  },
  {
   "metadata": {
    "ExecuteTime": {
     "end_time": "2025-06-10T14:02:00.877856Z",
     "start_time": "2025-06-10T14:02:00.874770Z"
    }
   },
   "cell_type": "code",
   "source": "s.strip('ab')",
   "id": "453934a97c615df1",
   "outputs": [
    {
     "data": {
      "text/plain": [
       "'PYTHON'"
      ]
     },
     "execution_count": 22,
     "metadata": {},
     "output_type": "execute_result"
    }
   ],
   "execution_count": 22
  },
  {
   "metadata": {},
   "cell_type": "markdown",
   "source": "Concatenation",
   "id": "88adf86d69013dc0"
  },
  {
   "metadata": {
    "ExecuteTime": {
     "end_time": "2025-06-10T14:03:26.121893Z",
     "start_time": "2025-06-10T14:03:26.118334Z"
    }
   },
   "cell_type": "code",
   "source": "'Python' + ' ' + 'rocks' + '!'",
   "id": "2137d25e8e89d171",
   "outputs": [
    {
     "data": {
      "text/plain": [
       "'Python rocks!'"
      ]
     },
     "execution_count": 23,
     "metadata": {},
     "output_type": "execute_result"
    }
   ],
   "execution_count": 23
  },
  {
   "metadata": {
    "ExecuteTime": {
     "end_time": "2025-06-10T14:03:44.858112Z",
     "start_time": "2025-06-10T14:03:44.855230Z"
    }
   },
   "cell_type": "code",
   "source": "data = 'Jones,Peter'",
   "id": "6dfc327654f9c1d9",
   "outputs": [],
   "execution_count": 24
  },
  {
   "metadata": {
    "ExecuteTime": {
     "end_time": "2025-06-10T14:04:24.415686Z",
     "start_time": "2025-06-10T14:04:24.413585Z"
    }
   },
   "cell_type": "code",
   "source": "    split_data = data.split(',')",
   "id": "4ef4224a9e7ef0eb",
   "outputs": [],
   "execution_count": 25
  },
  {
   "metadata": {
    "ExecuteTime": {
     "end_time": "2025-06-10T14:04:33.879160Z",
     "start_time": "2025-06-10T14:04:33.876237Z"
    }
   },
   "cell_type": "code",
   "source": "split_data",
   "id": "bdafff294b4dce8",
   "outputs": [
    {
     "data": {
      "text/plain": [
       "['Jones', 'Peter']"
      ]
     },
     "execution_count": 26,
     "metadata": {},
     "output_type": "execute_result"
    }
   ],
   "execution_count": 26
  },
  {
   "metadata": {
    "ExecuteTime": {
     "end_time": "2025-06-10T14:06:20.995256Z",
     "start_time": "2025-06-10T14:06:20.992986Z"
    }
   },
   "cell_type": "code",
   "source": "data = ['item1', 'item2', 'item3']",
   "id": "56976f08694e53ab",
   "outputs": [],
   "execution_count": 27
  },
  {
   "metadata": {
    "ExecuteTime": {
     "end_time": "2025-06-10T14:06:47.515690Z",
     "start_time": "2025-06-10T14:06:47.512943Z"
    }
   },
   "cell_type": "code",
   "source": "', '.join(data)",
   "id": "e7244092b12632a1",
   "outputs": [
    {
     "data": {
      "text/plain": [
       "'item1, item2, item3'"
      ]
     },
     "execution_count": 28,
     "metadata": {},
     "output_type": "execute_result"
    }
   ],
   "execution_count": 28
  },
  {
   "metadata": {
    "ExecuteTime": {
     "end_time": "2025-06-10T14:07:35.551775Z",
     "start_time": "2025-06-10T14:07:35.549129Z"
    }
   },
   "cell_type": "code",
   "source": "','.join('ABCD')",
   "id": "ea28b04f794dacb2",
   "outputs": [
    {
     "data": {
      "text/plain": [
       "'A,B,C,D'"
      ]
     },
     "execution_count": 29,
     "metadata": {},
     "output_type": "execute_result"
    }
   ],
   "execution_count": 29
  },
  {
   "metadata": {
    "ExecuteTime": {
     "end_time": "2025-06-10T14:08:15.318985Z",
     "start_time": "2025-06-10T14:08:15.313996Z"
    }
   },
   "cell_type": "code",
   "source": "'Rock' in 'python rocks!'",
   "id": "a7995f1dbc0fd95a",
   "outputs": [
    {
     "data": {
      "text/plain": [
       "False"
      ]
     },
     "execution_count": 31,
     "metadata": {},
     "output_type": "execute_result"
    }
   ],
   "execution_count": 31
  },
  {
   "metadata": {
    "ExecuteTime": {
     "end_time": "2025-06-10T14:08:46.318554Z",
     "start_time": "2025-06-10T14:08:46.313690Z"
    }
   },
   "cell_type": "code",
   "source": "'Rock'.casefold() in 'python rocks!'.casefold()",
   "id": "c4c4316cd536f6d7",
   "outputs": [
    {
     "data": {
      "text/plain": [
       "True"
      ]
     },
     "execution_count": 33,
     "metadata": {},
     "output_type": "execute_result"
    }
   ],
   "execution_count": 33
  },
  {
   "metadata": {
    "ExecuteTime": {
     "end_time": "2025-06-10T14:10:09.217364Z",
     "start_time": "2025-06-10T14:10:09.211349Z"
    }
   },
   "cell_type": "code",
   "source": "'Python rocks'.startswith('Python')",
   "id": "e2763c6558cfea66",
   "outputs": [
    {
     "data": {
      "text/plain": [
       "True"
      ]
     },
     "execution_count": 35,
     "metadata": {},
     "output_type": "execute_result"
    }
   ],
   "execution_count": 35
  },
  {
   "metadata": {
    "ExecuteTime": {
     "end_time": "2025-06-10T14:10:30.764745Z",
     "start_time": "2025-06-10T14:10:30.759723Z"
    }
   },
   "cell_type": "code",
   "source": "'Python rocks'.endswith('rocks')",
   "id": "1dfbe6e80e921cfd",
   "outputs": [
    {
     "data": {
      "text/plain": [
       "True"
      ]
     },
     "execution_count": 37,
     "metadata": {},
     "output_type": "execute_result"
    }
   ],
   "execution_count": 37
  },
  {
   "metadata": {
    "ExecuteTime": {
     "end_time": "2025-06-10T14:12:02.119151Z",
     "start_time": "2025-06-10T14:12:02.115198Z"
    }
   },
   "cell_type": "code",
   "source": "message = 'To every action there is always an equal and opposite reaction.'",
   "id": "508932c10538f299",
   "outputs": [],
   "execution_count": 39
  },
  {
   "metadata": {
    "ExecuteTime": {
     "end_time": "2025-06-10T14:12:25.351604Z",
     "start_time": "2025-06-10T14:12:25.348623Z"
    }
   },
   "cell_type": "code",
   "source": "message.index('action')",
   "id": "9461185c66a002d2",
   "outputs": [
    {
     "data": {
      "text/plain": [
       "9"
      ]
     },
     "execution_count": 40,
     "metadata": {},
     "output_type": "execute_result"
    }
   ],
   "execution_count": 40
  },
  {
   "metadata": {
    "ExecuteTime": {
     "end_time": "2025-06-10T14:12:49.002576Z",
     "start_time": "2025-06-10T14:12:48.985926Z"
    }
   },
   "cell_type": "code",
   "source": "message.index('azeaz')",
   "id": "cfbd576a65107264",
   "outputs": [
    {
     "ename": "ValueError",
     "evalue": "substring not found",
     "output_type": "error",
     "traceback": [
      "\u001B[31m---------------------------------------------------------------------------\u001B[39m",
      "\u001B[31mValueError\u001B[39m                                Traceback (most recent call last)",
      "\u001B[36mCell\u001B[39m\u001B[36m \u001B[39m\u001B[32mIn[41]\u001B[39m\u001B[32m, line 1\u001B[39m\n\u001B[32m----> \u001B[39m\u001B[32m1\u001B[39m \u001B[43mmessage\u001B[49m\u001B[43m.\u001B[49m\u001B[43mindex\u001B[49m\u001B[43m(\u001B[49m\u001B[33;43m'\u001B[39;49m\u001B[33;43mazeaz\u001B[39;49m\u001B[33;43m'\u001B[39;49m\u001B[43m)\u001B[49m\n",
      "\u001B[31mValueError\u001B[39m: substring not found"
     ]
    }
   ],
   "execution_count": 41
  },
  {
   "metadata": {
    "ExecuteTime": {
     "end_time": "2025-06-10T14:13:07.568102Z",
     "start_time": "2025-06-10T14:13:07.565272Z"
    }
   },
   "cell_type": "code",
   "source": "message.find('azeaz')",
   "id": "a2231794b3b7db71",
   "outputs": [
    {
     "data": {
      "text/plain": [
       "-1"
      ]
     },
     "execution_count": 42,
     "metadata": {},
     "output_type": "execute_result"
    }
   ],
   "execution_count": 42
  },
  {
   "metadata": {
    "ExecuteTime": {
     "end_time": "2025-06-10T14:16:57.827887Z",
     "start_time": "2025-06-10T14:16:57.823145Z"
    }
   },
   "cell_type": "code",
   "source": "message.index('action',9+ len('action'))",
   "id": "424c4aedb2012da1",
   "outputs": [
    {
     "data": {
      "text/plain": [
       "56"
      ]
     },
     "execution_count": 44,
     "metadata": {},
     "output_type": "execute_result"
    }
   ],
   "execution_count": 44
  },
  {
   "metadata": {
    "ExecuteTime": {
     "end_time": "2025-06-10T14:18:01.727199Z",
     "start_time": "2025-06-10T14:18:01.724028Z"
    }
   },
   "cell_type": "code",
   "source": "message[56]",
   "id": "330d26e23f1665bb",
   "outputs": [
    {
     "data": {
      "text/plain": [
       "'a'"
      ]
     },
     "execution_count": 45,
     "metadata": {},
     "output_type": "execute_result"
    }
   ],
   "execution_count": 45
  }
 ],
 "metadata": {},
 "nbformat": 4,
 "nbformat_minor": 5
}
