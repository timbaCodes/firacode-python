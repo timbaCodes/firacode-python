{
 "cells": [
  {
   "metadata": {
    "ExecuteTime": {
     "end_time": "2025-06-10T14:36:08.948700Z",
     "start_time": "2025-06-10T14:36:08.946374Z"
    }
   },
   "cell_type": "code",
   "source": "    open_,high,low,close = 98,100,95,99",
   "id": "6cfed89aca1a5423",
   "outputs": [],
   "execution_count": 1
  },
  {
   "metadata": {
    "ExecuteTime": {
     "end_time": "2025-06-10T14:37:22.697486Z",
     "start_time": "2025-06-10T14:37:22.694356Z"
    }
   },
   "cell_type": "code",
   "source": "'open: ' + str(open_) + ', high: ' + str(high) + ', low: ' + str(low) + ', close: ' + str(close)",
   "id": "815c55f4d10c0257",
   "outputs": [
    {
     "data": {
      "text/plain": [
       "'open: 98, high: 100, low: 95, close: 99'"
      ]
     },
     "execution_count": 5,
     "metadata": {},
     "output_type": "execute_result"
    }
   ],
   "execution_count": 5
  },
  {
   "metadata": {
    "ExecuteTime": {
     "end_time": "2025-06-10T14:38:17.041330Z",
     "start_time": "2025-06-10T14:38:17.037644Z"
    }
   },
   "cell_type": "code",
   "source": "'open: {}, high: {}, low: {}, close: {}'.format(open_,high,low,close)",
   "id": "ffc2c4d253950b78",
   "outputs": [
    {
     "data": {
      "text/plain": [
       "'open: 98, high: 100, low: 95, close: 99'"
      ]
     },
     "execution_count": 6,
     "metadata": {},
     "output_type": "execute_result"
    }
   ],
   "execution_count": 6
  },
  {
   "metadata": {
    "ExecuteTime": {
     "end_time": "2025-06-10T14:40:32.998902Z",
     "start_time": "2025-06-10T14:40:32.996083Z"
    }
   },
   "cell_type": "code",
   "source": [
    "bid = 1.58556\n",
    "ask = 1.58556"
   ],
   "id": "5104eb1a2ffeb16",
   "outputs": [],
   "execution_count": 7
  },
  {
   "metadata": {
    "ExecuteTime": {
     "end_time": "2025-06-10T14:40:48.996078Z",
     "start_time": "2025-06-10T14:40:48.993010Z"
    }
   },
   "cell_type": "code",
   "source": "'bid : {}, ask: {}'.format(bid,ask)",
   "id": "2eed4af06b371490",
   "outputs": [
    {
     "data": {
      "text/plain": [
       "'bid : 1.58556, ask: 1.58556'"
      ]
     },
     "execution_count": 8,
     "metadata": {},
     "output_type": "execute_result"
    }
   ],
   "execution_count": 8
  },
  {
   "metadata": {
    "ExecuteTime": {
     "end_time": "2025-06-10T14:41:16.874575Z",
     "start_time": "2025-06-10T14:41:16.871635Z"
    }
   },
   "cell_type": "code",
   "source": "f'bid: {bid}, ask: {ask}'",
   "id": "74363175fb611fcf",
   "outputs": [
    {
     "data": {
      "text/plain": [
       "'bid: 1.58556, ask: 1.58556'"
      ]
     },
     "execution_count": 9,
     "metadata": {},
     "output_type": "execute_result"
    }
   ],
   "execution_count": 9
  }
 ],
 "metadata": {},
 "nbformat": 4,
 "nbformat_minor": 5
}
