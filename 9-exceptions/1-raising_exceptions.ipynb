{
 "cells": [
  {
   "metadata": {
    "ExecuteTime": {
     "end_time": "2025-06-20T17:28:53.842449Z",
     "start_time": "2025-06-20T17:28:53.517460Z"
    }
   },
   "cell_type": "code",
   "source": [
    "a = 1\n",
    "b= 0\n",
    "result = a / b\n",
    "print(result)"
   ],
   "id": "bf37c13b282f1e2e",
   "outputs": [
    {
     "ename": "ZeroDivisionError",
     "evalue": "division by zero",
     "output_type": "error",
     "traceback": [
      "\u001B[31m---------------------------------------------------------------------------\u001B[39m",
      "\u001B[31mZeroDivisionError\u001B[39m                         Traceback (most recent call last)",
      "\u001B[36mCell\u001B[39m\u001B[36m \u001B[39m\u001B[32mIn[1]\u001B[39m\u001B[32m, line 3\u001B[39m\n\u001B[32m      1\u001B[39m a = \u001B[32m1\u001B[39m\n\u001B[32m      2\u001B[39m b= \u001B[32m0\u001B[39m\n\u001B[32m----> \u001B[39m\u001B[32m3\u001B[39m result = \u001B[43ma\u001B[49m\u001B[43m \u001B[49m\u001B[43m/\u001B[49m\u001B[43m \u001B[49m\u001B[43mb\u001B[49m \n\u001B[32m      4\u001B[39m \u001B[38;5;28mprint\u001B[39m(result)\n",
      "\u001B[31mZeroDivisionError\u001B[39m: division by zero"
     ]
    }
   ],
   "execution_count": 1
  },
  {
   "metadata": {
    "ExecuteTime": {
     "end_time": "2025-06-20T17:30:45.984344Z",
     "start_time": "2025-06-20T17:30:45.979779Z"
    }
   },
   "cell_type": "code",
   "source": "ex = ValueError('Name must be at least 5 character long.')",
   "id": "e3b900f84576179c",
   "outputs": [],
   "execution_count": 2
  },
  {
   "metadata": {
    "ExecuteTime": {
     "end_time": "2025-06-20T17:30:59.361460Z",
     "start_time": "2025-06-20T17:30:59.351303Z"
    }
   },
   "cell_type": "code",
   "source": "type(ex)",
   "id": "4abf4bc05f7ee403",
   "outputs": [
    {
     "data": {
      "text/plain": [
       "ValueError"
      ]
     },
     "execution_count": 3,
     "metadata": {},
     "output_type": "execute_result"
    }
   ],
   "execution_count": 3
  },
  {
   "metadata": {
    "ExecuteTime": {
     "end_time": "2025-06-20T17:31:11.971240Z",
     "start_time": "2025-06-20T17:31:11.964833Z"
    }
   },
   "cell_type": "code",
   "source": "ex",
   "id": "ab67b36cdad1370",
   "outputs": [
    {
     "data": {
      "text/plain": [
       "ValueError('Name must be at least 5 character long.')"
      ]
     },
     "execution_count": 4,
     "metadata": {},
     "output_type": "execute_result"
    }
   ],
   "execution_count": 4
  },
  {
   "metadata": {
    "ExecuteTime": {
     "end_time": "2025-06-20T17:31:40.913068Z",
     "start_time": "2025-06-20T17:31:40.906718Z"
    }
   },
   "cell_type": "code",
   "source": "repr(ex)",
   "id": "af55f1584b1c6903",
   "outputs": [
    {
     "data": {
      "text/plain": [
       "\"ValueError('Name must be at least 5 character long.')\""
      ]
     },
     "execution_count": 5,
     "metadata": {},
     "output_type": "execute_result"
    }
   ],
   "execution_count": 5
  },
  {
   "metadata": {
    "ExecuteTime": {
     "end_time": "2025-06-20T17:32:23.091289Z",
     "start_time": "2025-06-20T17:32:23.087648Z"
    }
   },
   "cell_type": "code",
   "source": "str(ex)",
   "id": "4ee38610d76ad1c8",
   "outputs": [
    {
     "data": {
      "text/plain": [
       "'Name must be at least 5 character long.'"
      ]
     },
     "execution_count": 6,
     "metadata": {},
     "output_type": "execute_result"
    }
   ],
   "execution_count": 6
  },
  {
   "metadata": {
    "ExecuteTime": {
     "end_time": "2025-06-20T17:33:26.275924Z",
     "start_time": "2025-06-20T17:33:26.229537Z"
    }
   },
   "cell_type": "code",
   "source": "raise ex",
   "id": "9b2f97f3af53c358",
   "outputs": [
    {
     "ename": "ValueError",
     "evalue": "Name must be at least 5 character long.",
     "output_type": "error",
     "traceback": [
      "\u001B[31m---------------------------------------------------------------------------\u001B[39m",
      "\u001B[31mValueError\u001B[39m                                Traceback (most recent call last)",
      "\u001B[36mCell\u001B[39m\u001B[36m \u001B[39m\u001B[32mIn[7]\u001B[39m\u001B[32m, line 1\u001B[39m\n\u001B[32m----> \u001B[39m\u001B[32m1\u001B[39m \u001B[38;5;28;01mraise\u001B[39;00m ex\n",
      "\u001B[31mValueError\u001B[39m: Name must be at least 5 character long."
     ]
    }
   ],
   "execution_count": 7
  },
  {
   "metadata": {
    "ExecuteTime": {
     "end_time": "2025-06-20T17:36:06.582660Z",
     "start_time": "2025-06-20T17:36:01.702855Z"
    }
   },
   "cell_type": "code",
   "source": [
    "name = input('Enter your name:(5 character min) ')\n",
    "\n",
    "if len(name) < 5:\n",
    "    raise ValueError(f'{name} must be at least 5 character long.')\n",
    "print(f'welcome {name}')"
   ],
   "id": "e0429d7ecdef00b9",
   "outputs": [
    {
     "name": "stdout",
     "output_type": "stream",
     "text": [
      "welcome eazer\n"
     ]
    }
   ],
   "execution_count": 10
  },
  {
   "metadata": {
    "ExecuteTime": {
     "end_time": "2025-06-20T17:37:33.721777Z",
     "start_time": "2025-06-20T17:37:33.714279Z"
    }
   },
   "cell_type": "code",
   "source": "issubclass(KeyError,LookupError)",
   "id": "a5d19e36d72d9cd8",
   "outputs": [
    {
     "data": {
      "text/plain": [
       "True"
      ]
     },
     "execution_count": 11,
     "metadata": {},
     "output_type": "execute_result"
    }
   ],
   "execution_count": 11
  },
  {
   "metadata": {
    "ExecuteTime": {
     "end_time": "2025-06-20T17:38:02.543327Z",
     "start_time": "2025-06-20T17:38:02.536084Z"
    }
   },
   "cell_type": "code",
   "source": "issubclass(KeyError,Exception)",
   "id": "6a49269ce2cdc505",
   "outputs": [
    {
     "data": {
      "text/plain": [
       "True"
      ]
     },
     "execution_count": 12,
     "metadata": {},
     "output_type": "execute_result"
    }
   ],
   "execution_count": 12
  },
  {
   "metadata": {
    "ExecuteTime": {
     "end_time": "2025-06-20T17:38:43.068604Z",
     "start_time": "2025-06-20T17:38:43.062401Z"
    }
   },
   "cell_type": "code",
   "source": "issubclass(IndexError,LookupError)",
   "id": "6199942315387bd7",
   "outputs": [
    {
     "data": {
      "text/plain": [
       "True"
      ]
     },
     "execution_count": 13,
     "metadata": {},
     "output_type": "execute_result"
    }
   ],
   "execution_count": 13
  },
  {
   "metadata": {
    "ExecuteTime": {
     "end_time": "2025-06-20T17:39:25.051932Z",
     "start_time": "2025-06-20T17:39:25.046342Z"
    }
   },
   "cell_type": "code",
   "source": "ex = KeyError('Name must be at least 5 character long.')",
   "id": "b2e5cbc79170ba12",
   "outputs": [],
   "execution_count": 14
  },
  {
   "metadata": {
    "ExecuteTime": {
     "end_time": "2025-06-20T17:39:28.275053Z",
     "start_time": "2025-06-20T17:39:28.267109Z"
    }
   },
   "cell_type": "code",
   "source": "type(ex)",
   "id": "c829ae4a8001d6f1",
   "outputs": [
    {
     "data": {
      "text/plain": [
       "KeyError"
      ]
     },
     "execution_count": 15,
     "metadata": {},
     "output_type": "execute_result"
    }
   ],
   "execution_count": 15
  },
  {
   "metadata": {
    "ExecuteTime": {
     "end_time": "2025-06-20T17:39:35.548045Z",
     "start_time": "2025-06-20T17:39:35.541468Z"
    }
   },
   "cell_type": "code",
   "source": "isinstance(ex, KeyError)",
   "id": "306a6f134ddc8c1d",
   "outputs": [
    {
     "data": {
      "text/plain": [
       "True"
      ]
     },
     "execution_count": 16,
     "metadata": {},
     "output_type": "execute_result"
    }
   ],
   "execution_count": 16
  },
  {
   "metadata": {
    "ExecuteTime": {
     "end_time": "2025-06-20T17:39:50.403900Z",
     "start_time": "2025-06-20T17:39:50.400263Z"
    }
   },
   "cell_type": "code",
   "source": "isinstance(ex, LookupError)",
   "id": "9d27270d0654d63",
   "outputs": [
    {
     "data": {
      "text/plain": [
       "True"
      ]
     },
     "execution_count": 17,
     "metadata": {},
     "output_type": "execute_result"
    }
   ],
   "execution_count": 17
  },
  {
   "metadata": {
    "ExecuteTime": {
     "end_time": "2025-06-20T17:40:10.949517Z",
     "start_time": "2025-06-20T17:40:10.945883Z"
    }
   },
   "cell_type": "code",
   "source": "isinstance(ex, Exception)",
   "id": "fea041cd5bf8ede7",
   "outputs": [
    {
     "data": {
      "text/plain": [
       "True"
      ]
     },
     "execution_count": 18,
     "metadata": {},
     "output_type": "execute_result"
    }
   ],
   "execution_count": 18
  },
  {
   "metadata": {},
   "cell_type": "code",
   "outputs": [],
   "execution_count": null,
   "source": "",
   "id": "42406d23aa139302"
  }
 ],
 "metadata": {},
 "nbformat": 4,
 "nbformat_minor": 5
}
