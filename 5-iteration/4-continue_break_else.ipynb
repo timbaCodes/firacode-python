{
 "cells": [
  {
   "metadata": {
    "ExecuteTime": {
     "end_time": "2025-06-11T11:19:08.564051Z",
     "start_time": "2025-06-11T11:19:08.557742Z"
    }
   },
   "cell_type": "code",
   "source": [
    "for i in range(100):\n",
    "    print(i)\n",
    "    if i>=5:\n",
    "        print('breaking out of loop')\n",
    "        break\n",
    "print('done')"
   ],
   "id": "48d376c6c929d2ec",
   "outputs": [
    {
     "name": "stdout",
     "output_type": "stream",
     "text": [
      "0\n",
      "1\n",
      "2\n",
      "3\n",
      "4\n",
      "5\n",
      "breaking out of loop\n",
      "done\n"
     ]
    }
   ],
   "execution_count": 4
  },
  {
   "metadata": {
    "ExecuteTime": {
     "end_time": "2025-06-11T11:21:17.079693Z",
     "start_time": "2025-06-11T11:21:17.073675Z"
    }
   },
   "cell_type": "code",
   "source": [
    " for i in range(1,11):\n",
    "     if i % 2 == 1:\n",
    "         continue\n",
    "     print(i)"
   ],
   "id": "e77cd2eb6c0775ad",
   "outputs": [
    {
     "name": "stdout",
     "output_type": "stream",
     "text": [
      "2\n",
      "4\n",
      "6\n",
      "8\n",
      "10\n"
     ]
    }
   ],
   "execution_count": 5
  },
  {
   "metadata": {
    "ExecuteTime": {
     "end_time": "2025-06-11T11:22:16.870765Z",
     "start_time": "2025-06-11T11:22:16.864200Z"
    }
   },
   "cell_type": "code",
   "source": [
    "for i in range(1,11):\n",
    "    if i % 2 == 0:\n",
    "        print(i)"
   ],
   "id": "1c29ff159175f0de",
   "outputs": [
    {
     "name": "stdout",
     "output_type": "stream",
     "text": [
      "2\n",
      "4\n",
      "6\n",
      "8\n",
      "10\n"
     ]
    }
   ],
   "execution_count": 6
  },
  {
   "metadata": {
    "ExecuteTime": {
     "end_time": "2025-06-11T11:26:36.848203Z",
     "start_time": "2025-06-11T11:26:36.841736Z"
    }
   },
   "cell_type": "code",
   "source": [
    "for i in range(1,5):\n",
    "    for j in range(1,5):\n",
    "        if (i+j) % 2 == 1:\n",
    "            print(f'{i} + {j} is odd, skipping...')\n",
    "            continue\n",
    "        print(f'adding numbers : {i} + {j} = {i+j}')\n",
    "    print('-'*10)"
   ],
   "id": "5b3cd59afa47b325",
   "outputs": [
    {
     "name": "stdout",
     "output_type": "stream",
     "text": [
      "adding numbers : 1 + 1 = 2\n",
      "1 + 2 is odd, skipping...\n",
      "adding numbers : 1 + 3 = 4\n",
      "1 + 4 is odd, skipping...\n",
      "----------\n",
      "2 + 1 is odd, skipping...\n",
      "adding numbers : 2 + 2 = 4\n",
      "2 + 3 is odd, skipping...\n",
      "adding numbers : 2 + 4 = 6\n",
      "----------\n",
      "adding numbers : 3 + 1 = 4\n",
      "3 + 2 is odd, skipping...\n",
      "adding numbers : 3 + 3 = 6\n",
      "3 + 4 is odd, skipping...\n",
      "----------\n",
      "4 + 1 is odd, skipping...\n",
      "adding numbers : 4 + 2 = 6\n",
      "4 + 3 is odd, skipping...\n",
      "adding numbers : 4 + 4 = 8\n",
      "----------\n"
     ]
    }
   ],
   "execution_count": 9
  },
  {
   "metadata": {
    "ExecuteTime": {
     "end_time": "2025-06-11T11:28:19.031673Z",
     "start_time": "2025-06-11T11:28:19.024352Z"
    }
   },
   "cell_type": "code",
   "source": [
    "for i in range(1,4):\n",
    "    for j in range(1,4):\n",
    "        if j>= 3:\n",
    "            break\n",
    "        print(i,j)\n",
    "    print('-'*10)"
   ],
   "id": "1ab59c6e28e5d572",
   "outputs": [
    {
     "name": "stdout",
     "output_type": "stream",
     "text": [
      "1 1\n",
      "1 2\n",
      "----------\n",
      "2 1\n",
      "2 2\n",
      "----------\n",
      "3 1\n",
      "3 2\n",
      "----------\n"
     ]
    }
   ],
   "execution_count": 11
  },
  {
   "metadata": {
    "ExecuteTime": {
     "end_time": "2025-06-11T11:29:46.823230Z",
     "start_time": "2025-06-11T11:29:46.818077Z"
    }
   },
   "cell_type": "code",
   "source": [
    "i = 0\n",
    "\n",
    "while True:\n",
    "    i += 1\n",
    "    if i > 5:\n",
    "        break\n",
    "    print(i)"
   ],
   "id": "1819bf79dab07290",
   "outputs": [
    {
     "name": "stdout",
     "output_type": "stream",
     "text": [
      "1\n",
      "2\n",
      "3\n",
      "4\n",
      "5\n"
     ]
    }
   ],
   "execution_count": 12
  },
  {
   "metadata": {
    "ExecuteTime": {
     "end_time": "2025-06-11T11:31:48.858971Z",
     "start_time": "2025-06-11T11:31:48.853162Z"
    }
   },
   "cell_type": "code",
   "source": [
    "data = [1,2,3,-4,5,6]\n",
    "\n",
    "all_positive = True\n",
    "\n",
    "for element in data:\n",
    "    if element <=0:\n",
    "        all_positive = False\n",
    "        break\n",
    "\n",
    "if all_positive:\n",
    "    print('processing all positive numbers')"
   ],
   "id": "d8985e6b6952803b",
   "outputs": [],
   "execution_count": 15
  },
  {
   "metadata": {
    "ExecuteTime": {
     "end_time": "2025-06-11T11:32:58.941200Z",
     "start_time": "2025-06-11T11:32:58.934846Z"
    }
   },
   "cell_type": "code",
   "source": [
    "for i in range(5):\n",
    "    print(i)\n",
    "else:\n",
    "    print('loop terminated normally (no break)')"
   ],
   "id": "47a00080b4d85750",
   "outputs": [
    {
     "name": "stdout",
     "output_type": "stream",
     "text": [
      "0\n",
      "1\n",
      "2\n",
      "3\n",
      "4\n",
      "loop terminated normally (no break)\n"
     ]
    }
   ],
   "execution_count": 16
  },
  {
   "metadata": {
    "ExecuteTime": {
     "end_time": "2025-06-11T11:33:27.273593Z",
     "start_time": "2025-06-11T11:33:27.268118Z"
    }
   },
   "cell_type": "code",
   "source": [
    "for i in range(5):\n",
    "    print(i)\n",
    "    if i >3:\n",
    "        break\n",
    "else:\n",
    "    print('loop terminated normally (no break)')"
   ],
   "id": "f97786a9a3baf87b",
   "outputs": [
    {
     "name": "stdout",
     "output_type": "stream",
     "text": [
      "0\n",
      "1\n",
      "2\n",
      "3\n",
      "4\n"
     ]
    }
   ],
   "execution_count": 17
  },
  {
   "metadata": {
    "ExecuteTime": {
     "end_time": "2025-06-11T11:35:35.833975Z",
     "start_time": "2025-06-11T11:35:35.828583Z"
    }
   },
   "cell_type": "code",
   "source": [
    "data = [1,2,3,-4,5,6]\n",
    "\n",
    "for element in data:\n",
    "    if element < 0:\n",
    "        break\n",
    "else:\n",
    "    print('processing all positive numbers')"
   ],
   "id": "56f217d0efc055f3",
   "outputs": [],
   "execution_count": 20
  },
  {
   "metadata": {},
   "cell_type": "code",
   "outputs": [],
   "execution_count": null,
   "source": "",
   "id": "475e1c2bf069686"
  }
 ],
 "metadata": {},
 "nbformat": 4,
 "nbformat_minor": 5
}
