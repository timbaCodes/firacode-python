{
 "cells": [
  {
   "metadata": {
    "ExecuteTime": {
     "end_time": "2025-06-11T09:13:08.471970Z",
     "start_time": "2025-06-11T09:13:08.460288Z"
    }
   },
   "cell_type": "code",
   "source": "range(10)",
   "id": "5145f221be67159f",
   "outputs": [
    {
     "data": {
      "text/plain": [
       "range(0, 10)"
      ]
     },
     "execution_count": 1,
     "metadata": {},
     "output_type": "execute_result"
    }
   ],
   "execution_count": 1
  },
  {
   "metadata": {
    "ExecuteTime": {
     "end_time": "2025-06-11T09:13:17.503718Z",
     "start_time": "2025-06-11T09:13:17.497620Z"
    }
   },
   "cell_type": "code",
   "source": "print(range(10))",
   "id": "67cd5a8d256ccf47",
   "outputs": [
    {
     "name": "stdout",
     "output_type": "stream",
     "text": [
      "range(0, 10)\n"
     ]
    }
   ],
   "execution_count": 2
  },
  {
   "metadata": {
    "ExecuteTime": {
     "end_time": "2025-06-11T09:13:23.925395Z",
     "start_time": "2025-06-11T09:13:23.918087Z"
    }
   },
   "cell_type": "code",
   "source": "type(range(10))",
   "id": "8d6b55da320717cd",
   "outputs": [
    {
     "data": {
      "text/plain": [
       "range"
      ]
     },
     "execution_count": 3,
     "metadata": {},
     "output_type": "execute_result"
    }
   ],
   "execution_count": 3
  },
  {
   "metadata": {
    "ExecuteTime": {
     "end_time": "2025-06-11T09:14:03.932928Z",
     "start_time": "2025-06-11T09:14:03.925111Z"
    }
   },
   "cell_type": "code",
   "source": "list('abc')",
   "id": "43c288033ccc4b95",
   "outputs": [
    {
     "data": {
      "text/plain": [
       "['a', 'b', 'c']"
      ]
     },
     "execution_count": 4,
     "metadata": {},
     "output_type": "execute_result"
    }
   ],
   "execution_count": 4
  },
  {
   "metadata": {
    "ExecuteTime": {
     "end_time": "2025-06-11T09:14:08.676771Z",
     "start_time": "2025-06-11T09:14:08.672294Z"
    }
   },
   "cell_type": "code",
   "source": "list(range(10))",
   "id": "80138d77673160f3",
   "outputs": [
    {
     "data": {
      "text/plain": [
       "[0, 1, 2, 3, 4, 5, 6, 7, 8, 9]"
      ]
     },
     "execution_count": 5,
     "metadata": {},
     "output_type": "execute_result"
    }
   ],
   "execution_count": 5
  },
  {
   "metadata": {
    "ExecuteTime": {
     "end_time": "2025-06-11T09:14:18.076559Z",
     "start_time": "2025-06-11T09:14:18.068607Z"
    }
   },
   "cell_type": "code",
   "source": "tuple(range(10))",
   "id": "ac9d95373f6dbfd4",
   "outputs": [
    {
     "data": {
      "text/plain": [
       "(0, 1, 2, 3, 4, 5, 6, 7, 8, 9)"
      ]
     },
     "execution_count": 6,
     "metadata": {},
     "output_type": "execute_result"
    }
   ],
   "execution_count": 6
  },
  {
   "metadata": {
    "ExecuteTime": {
     "end_time": "2025-06-11T09:15:01.938860Z",
     "start_time": "2025-06-11T09:15:01.930117Z"
    }
   },
   "cell_type": "code",
   "source": "list(range(3,9))",
   "id": "44ff45d1af920253",
   "outputs": [
    {
     "data": {
      "text/plain": [
       "[3, 4, 5, 6, 7, 8]"
      ]
     },
     "execution_count": 7,
     "metadata": {},
     "output_type": "execute_result"
    }
   ],
   "execution_count": 7
  },
  {
   "metadata": {
    "ExecuteTime": {
     "end_time": "2025-06-11T09:15:16.590244Z",
     "start_time": "2025-06-11T09:15:16.582882Z"
    }
   },
   "cell_type": "code",
   "source": "len(range(3,9))",
   "id": "58d7387260cbf963",
   "outputs": [
    {
     "data": {
      "text/plain": [
       "6"
      ]
     },
     "execution_count": 8,
     "metadata": {},
     "output_type": "execute_result"
    }
   ],
   "execution_count": 8
  },
  {
   "metadata": {
    "ExecuteTime": {
     "end_time": "2025-06-11T09:15:30.455157Z",
     "start_time": "2025-06-11T09:15:30.447942Z"
    }
   },
   "cell_type": "code",
   "source": "len(range(10))",
   "id": "69db4990362dff99",
   "outputs": [
    {
     "data": {
      "text/plain": [
       "10"
      ]
     },
     "execution_count": 9,
     "metadata": {},
     "output_type": "execute_result"
    }
   ],
   "execution_count": 9
  },
  {
   "metadata": {
    "ExecuteTime": {
     "end_time": "2025-06-11T09:16:17.792783Z",
     "start_time": "2025-06-11T09:16:17.785851Z"
    }
   },
   "cell_type": "code",
   "source": "list(range(2,10,2))",
   "id": "f71b49ea2c48d90e",
   "outputs": [
    {
     "data": {
      "text/plain": [
       "[2, 4, 6, 8]"
      ]
     },
     "execution_count": 10,
     "metadata": {},
     "output_type": "execute_result"
    }
   ],
   "execution_count": 10
  },
  {
   "metadata": {
    "ExecuteTime": {
     "end_time": "2025-06-11T09:21:48.488210Z",
     "start_time": "2025-06-11T09:21:48.480527Z"
    }
   },
   "cell_type": "code",
   "source": "type(range(2,10,2))",
   "id": "ae690249f0b9f4ef",
   "outputs": [
    {
     "data": {
      "text/plain": [
       "range"
      ]
     },
     "execution_count": 11,
     "metadata": {},
     "output_type": "execute_result"
    }
   ],
   "execution_count": 11
  },
  {
   "metadata": {},
   "cell_type": "code",
   "outputs": [],
   "execution_count": null,
   "source": "",
   "id": "667e56184a1695b1"
  }
 ],
 "metadata": {},
 "nbformat": 4,
 "nbformat_minor": 5
}
