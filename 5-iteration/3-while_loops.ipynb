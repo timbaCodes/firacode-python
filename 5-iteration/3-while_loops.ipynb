{
 "cells": [
  {
   "metadata": {
    "ExecuteTime": {
     "end_time": "2025-06-11T10:37:40.339048Z",
     "start_time": "2025-06-11T10:37:40.331276Z"
    }
   },
   "cell_type": "code",
   "source": [
    "price = 100\n",
    "\n",
    "while price > 90:\n",
    "    print(f'price = {price} - waiting for price to come down...')\n",
    "    price -=1\n",
    "print(f'buying at {price}')"
   ],
   "id": "ee41c591a9cfab45",
   "outputs": [
    {
     "name": "stdout",
     "output_type": "stream",
     "text": [
      "price = 100 - waiting for price to come down...\n",
      "price = 99 - waiting for price to come down...\n",
      "price = 98 - waiting for price to come down...\n",
      "price = 97 - waiting for price to come down...\n",
      "price = 96 - waiting for price to come down...\n",
      "price = 95 - waiting for price to come down...\n",
      "price = 94 - waiting for price to come down...\n",
      "price = 93 - waiting for price to come down...\n",
      "price = 92 - waiting for price to come down...\n",
      "price = 91 - waiting for price to come down...\n",
      "buying at 90\n"
     ]
    }
   ],
   "execution_count": 2
  },
  {
   "metadata": {
    "ExecuteTime": {
     "end_time": "2025-06-11T10:40:10.244135Z",
     "start_time": "2025-06-11T10:40:10.238217Z"
    }
   },
   "cell_type": "code",
   "source": [
    "price = 100\n",
    "\n",
    "while price < 50:\n",
    "    print(f'price = {price}')\n",
    "print('Done')"
   ],
   "id": "416536b32dc0f2a1",
   "outputs": [
    {
     "name": "stdout",
     "output_type": "stream",
     "text": [
      "Done\n"
     ]
    }
   ],
   "execution_count": 4
  },
  {
   "metadata": {
    "ExecuteTime": {
     "end_time": "2025-06-11T10:44:48.374553Z",
     "start_time": "2025-06-11T10:44:48.369859Z"
    }
   },
   "cell_type": "code",
   "source": "data = [100, 200, 300, 400,500]",
   "id": "d054605351c4a2bd",
   "outputs": [],
   "execution_count": 16
  },
  {
   "metadata": {
    "ExecuteTime": {
     "end_time": "2025-06-11T10:43:19.797556Z",
     "start_time": "2025-06-11T10:43:19.791471Z"
    }
   },
   "cell_type": "code",
   "source": [
    "while len(data) > 0:\n",
    "    last_element = data.pop()\n",
    "    print(f'processing element: {last_element}')"
   ],
   "id": "df0466b5254f4261",
   "outputs": [
    {
     "name": "stdout",
     "output_type": "stream",
     "text": [
      "processing element: 500\n",
      "processing element: 400\n",
      "processing element: 300\n",
      "processing element: 200\n",
      "processing element: 100\n"
     ]
    }
   ],
   "execution_count": 11
  },
  {
   "metadata": {
    "ExecuteTime": {
     "end_time": "2025-06-11T10:44:43.595789Z",
     "start_time": "2025-06-11T10:44:43.589819Z"
    }
   },
   "cell_type": "code",
   "source": "data",
   "id": "fe7686534063bbb5",
   "outputs": [
    {
     "data": {
      "text/plain": [
       "[]"
      ]
     },
     "execution_count": 15,
     "metadata": {},
     "output_type": "execute_result"
    }
   ],
   "execution_count": 15
  },
  {
   "metadata": {
    "ExecuteTime": {
     "end_time": "2025-06-11T10:44:50.630667Z",
     "start_time": "2025-06-11T10:44:50.585413Z"
    }
   },
   "cell_type": "code",
   "source": [
    "for i in range(len(data)):\n",
    "    element = data.pop(i)\n",
    "    print(f'processing element: {element}')"
   ],
   "id": "729d36c685c9039c",
   "outputs": [
    {
     "name": "stdout",
     "output_type": "stream",
     "text": [
      "processing element: 100\n",
      "processing element: 300\n",
      "processing element: 500\n"
     ]
    },
    {
     "ename": "IndexError",
     "evalue": "pop index out of range",
     "output_type": "error",
     "traceback": [
      "\u001B[31m---------------------------------------------------------------------------\u001B[39m",
      "\u001B[31mIndexError\u001B[39m                                Traceback (most recent call last)",
      "\u001B[36mCell\u001B[39m\u001B[36m \u001B[39m\u001B[32mIn[17]\u001B[39m\u001B[32m, line 2\u001B[39m\n\u001B[32m      1\u001B[39m \u001B[38;5;28;01mfor\u001B[39;00m i \u001B[38;5;129;01min\u001B[39;00m \u001B[38;5;28mrange\u001B[39m(\u001B[38;5;28mlen\u001B[39m(data)):\n\u001B[32m----> \u001B[39m\u001B[32m2\u001B[39m     element = \u001B[43mdata\u001B[49m\u001B[43m.\u001B[49m\u001B[43mpop\u001B[49m\u001B[43m(\u001B[49m\u001B[43mi\u001B[49m\u001B[43m)\u001B[49m\n\u001B[32m      3\u001B[39m     \u001B[38;5;28mprint\u001B[39m(\u001B[33mf\u001B[39m\u001B[33m'\u001B[39m\u001B[33mprocessing element: \u001B[39m\u001B[38;5;132;01m{\u001B[39;00melement\u001B[38;5;132;01m}\u001B[39;00m\u001B[33m'\u001B[39m)\n",
      "\u001B[31mIndexError\u001B[39m: pop index out of range"
     ]
    }
   ],
   "execution_count": 17
  },
  {
   "metadata": {},
   "cell_type": "code",
   "outputs": [],
   "execution_count": null,
   "source": "",
   "id": "43ba61e5de3fdc9"
  }
 ],
 "metadata": {},
 "nbformat": 4,
 "nbformat_minor": 5
}
