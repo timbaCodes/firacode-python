{
 "cells": [
  {
   "metadata": {
    "ExecuteTime": {
     "end_time": "2025-06-11T09:39:58.711214Z",
     "start_time": "2025-06-11T09:39:58.705999Z"
    }
   },
   "cell_type": "code",
   "source": "suits = ['Spades', 'Hearts', 'Diamonds', 'Clubs']",
   "id": "a330df2ee4da3171",
   "outputs": [],
   "execution_count": 1
  },
  {
   "metadata": {
    "ExecuteTime": {
     "end_time": "2025-06-11T09:40:16.673459Z",
     "start_time": "2025-06-11T09:40:16.667280Z"
    }
   },
   "cell_type": "code",
   "source": [
    "for suit in suits:\n",
    "    print(suit)"
   ],
   "id": "dc758b2ff0c0ed55",
   "outputs": [
    {
     "name": "stdout",
     "output_type": "stream",
     "text": [
      "Spades\n",
      "Hearts\n",
      "Diamonds\n",
      "Clubs\n"
     ]
    }
   ],
   "execution_count": 2
  },
  {
   "metadata": {
    "ExecuteTime": {
     "end_time": "2025-06-11T09:42:03.637572Z",
     "start_time": "2025-06-11T09:42:03.631275Z"
    }
   },
   "cell_type": "code",
   "source": [
    "for c in 'python':\n",
    "    print(c)"
   ],
   "id": "f461383e56b19d3d",
   "outputs": [
    {
     "name": "stdout",
     "output_type": "stream",
     "text": [
      "p\n",
      "y\n",
      "t\n",
      "h\n",
      "o\n",
      "n\n"
     ]
    }
   ],
   "execution_count": 3
  },
  {
   "metadata": {
    "ExecuteTime": {
     "end_time": "2025-06-11T09:44:26.354821Z",
     "start_time": "2025-06-11T09:44:26.348917Z"
    }
   },
   "cell_type": "code",
   "source": [
    "for i in range(2,11,2):\n",
    "    print(i)"
   ],
   "id": "23a28e1d58af32a",
   "outputs": [
    {
     "name": "stdout",
     "output_type": "stream",
     "text": [
      "2\n",
      "4\n",
      "6\n",
      "8\n",
      "10\n"
     ]
    }
   ],
   "execution_count": 4
  },
  {
   "metadata": {
    "ExecuteTime": {
     "end_time": "2025-06-11T09:44:35.166867Z",
     "start_time": "2025-06-11T09:44:35.152934Z"
    }
   },
   "cell_type": "code",
   "source": "list(range(2,11,2))",
   "id": "25617dbe606e7590",
   "outputs": [
    {
     "data": {
      "text/plain": [
       "[2, 4, 6, 8, 10]"
      ]
     },
     "execution_count": 5,
     "metadata": {},
     "output_type": "execute_result"
    }
   ],
   "execution_count": 5
  },
  {
   "metadata": {
    "ExecuteTime": {
     "end_time": "2025-06-11T09:46:27.099797Z",
     "start_time": "2025-06-11T09:46:27.092237Z"
    }
   },
   "cell_type": "code",
   "source": [
    "for i in range(3):\n",
    "    for j in range(3):\n",
    "        print(f'i={i}, j={j}')\n",
    "    print('-'*10)"
   ],
   "id": "d4737e8404e1b57d",
   "outputs": [
    {
     "name": "stdout",
     "output_type": "stream",
     "text": [
      "i=0, j=0\n",
      "i=0, j=1\n",
      "i=0, j=2\n",
      "----------\n",
      "i=1, j=0\n",
      "i=1, j=1\n",
      "i=1, j=2\n",
      "----------\n",
      "i=2, j=0\n",
      "i=2, j=1\n",
      "i=2, j=2\n",
      "----------\n"
     ]
    }
   ],
   "execution_count": 7
  },
  {
   "metadata": {
    "ExecuteTime": {
     "end_time": "2025-06-11T09:48:33.065205Z",
     "start_time": "2025-06-11T09:48:33.060320Z"
    }
   },
   "cell_type": "code",
   "source": [
    "m = [\n",
    "    [1,2,3],\n",
    "    [4,5,6],\n",
    "    [7,8,9]\n",
    "]"
   ],
   "id": "e6d70f9012457d44",
   "outputs": [],
   "execution_count": 8
  },
  {
   "metadata": {
    "ExecuteTime": {
     "end_time": "2025-06-11T09:48:47.372326Z",
     "start_time": "2025-06-11T09:48:47.365495Z"
    }
   },
   "cell_type": "code",
   "source": "m",
   "id": "ae694a5e988544e1",
   "outputs": [
    {
     "data": {
      "text/plain": [
       "[[1, 2, 3], [4, 5, 6], [7, 8, 9]]"
      ]
     },
     "execution_count": 9,
     "metadata": {},
     "output_type": "execute_result"
    }
   ],
   "execution_count": 9
  },
  {
   "metadata": {
    "ExecuteTime": {
     "end_time": "2025-06-11T09:50:41.339312Z",
     "start_time": "2025-06-11T09:50:41.331682Z"
    }
   },
   "cell_type": "code",
   "source": [
    "for i in range(3):\n",
    "    for j in range(3):\n",
    "        print(f'[{i},{j}] = {m[i][j]}')"
   ],
   "id": "f5b5287203b1498f",
   "outputs": [
    {
     "name": "stdout",
     "output_type": "stream",
     "text": [
      "[0,0] = 1\n",
      "[0,1] = 2\n",
      "[0,2] = 3\n",
      "[1,0] = 4\n",
      "[1,1] = 5\n",
      "[1,2] = 6\n",
      "[2,0] = 7\n",
      "[2,1] = 8\n",
      "[2,2] = 9\n"
     ]
    }
   ],
   "execution_count": 10
  },
  {
   "metadata": {
    "ExecuteTime": {
     "end_time": "2025-06-11T09:51:34.924539Z",
     "start_time": "2025-06-11T09:51:34.918309Z"
    }
   },
   "cell_type": "code",
   "source": "len(m)",
   "id": "15b32b11a4e69264",
   "outputs": [
    {
     "data": {
      "text/plain": [
       "3"
      ]
     },
     "execution_count": 11,
     "metadata": {},
     "output_type": "execute_result"
    }
   ],
   "execution_count": 11
  },
  {
   "metadata": {
    "ExecuteTime": {
     "end_time": "2025-06-11T09:51:46.289718Z",
     "start_time": "2025-06-11T09:51:46.282896Z"
    }
   },
   "cell_type": "code",
   "source": "len(m[0])",
   "id": "d70fff3d00f89501",
   "outputs": [
    {
     "data": {
      "text/plain": [
       "3"
      ]
     },
     "execution_count": 12,
     "metadata": {},
     "output_type": "execute_result"
    }
   ],
   "execution_count": 12
  },
  {
   "metadata": {
    "ExecuteTime": {
     "end_time": "2025-06-11T09:51:51.489819Z",
     "start_time": "2025-06-11T09:51:51.483350Z"
    }
   },
   "cell_type": "code",
   "source": "len(m[1])",
   "id": "9d23585f9688ec34",
   "outputs": [
    {
     "data": {
      "text/plain": [
       "3"
      ]
     },
     "execution_count": 13,
     "metadata": {},
     "output_type": "execute_result"
    }
   ],
   "execution_count": 13
  },
  {
   "metadata": {
    "ExecuteTime": {
     "end_time": "2025-06-11T09:54:40.822842Z",
     "start_time": "2025-06-11T09:54:40.816876Z"
    }
   },
   "cell_type": "code",
   "source": [
    "for row_idx in range(len(m)):\n",
    "    for col_idx in range(len(m[row_idx])):\n",
    "        print(f'[{row_idx},{col_idx}] = {m[row_idx][col_idx]}')"
   ],
   "id": "e7f686d6cfdd1d8d",
   "outputs": [
    {
     "name": "stdout",
     "output_type": "stream",
     "text": [
      "[0,0] = 1\n",
      "[0,1] = 2\n",
      "[0,2] = 3\n",
      "[1,0] = 4\n",
      "[1,1] = 5\n",
      "[1,2] = 6\n",
      "[2,0] = 7\n",
      "[2,1] = 8\n",
      "[2,2] = 9\n"
     ]
    }
   ],
   "execution_count": 16
  },
  {
   "metadata": {
    "ExecuteTime": {
     "end_time": "2025-06-11T10:00:48.720347Z",
     "start_time": "2025-06-11T10:00:48.715823Z"
    }
   },
   "cell_type": "code",
   "source": [
    "m = [\n",
    "    [0,1],\n",
    "    [2,3,4,5,6],\n",
    "    [7,8,9],\n",
    "    [10]\n",
    "]"
   ],
   "id": "f572aa4a3dec3f56",
   "outputs": [],
   "execution_count": 17
  },
  {
   "metadata": {
    "ExecuteTime": {
     "end_time": "2025-06-11T10:00:58.930200Z",
     "start_time": "2025-06-11T10:00:58.924375Z"
    }
   },
   "cell_type": "code",
   "source": [
    "for row_idx in range(len(m)):\n",
    "    for col_idx in range(len(m[row_idx])):\n",
    "        print(f'[{row_idx},{col_idx}] = {m[row_idx][col_idx]}')"
   ],
   "id": "935763142f231fca",
   "outputs": [
    {
     "name": "stdout",
     "output_type": "stream",
     "text": [
      "[0,0] = 0\n",
      "[0,1] = 1\n",
      "[1,0] = 2\n",
      "[1,1] = 3\n",
      "[1,2] = 4\n",
      "[1,3] = 5\n",
      "[1,4] = 6\n",
      "[2,0] = 7\n",
      "[2,1] = 8\n",
      "[2,2] = 9\n",
      "[3,0] = 10\n"
     ]
    }
   ],
   "execution_count": 18
  },
  {
   "metadata": {
    "ExecuteTime": {
     "end_time": "2025-06-11T10:04:00.224880Z",
     "start_time": "2025-06-11T10:04:00.218239Z"
    }
   },
   "cell_type": "code",
   "source": [
    "n = 5\n",
    "\n",
    "matrix = []\n",
    "\n",
    "for row_idx in range(n):\n",
    "    row = []\n",
    "    for col_idx in range(n):\n",
    "        if row_idx == col_idx:\n",
    "            row.append(1)\n",
    "        else:\n",
    "            row.append(0)\n",
    "    matrix.append(row)"
   ],
   "id": "a0d1afa5b1aa12be",
   "outputs": [],
   "execution_count": 19
  },
  {
   "metadata": {
    "ExecuteTime": {
     "end_time": "2025-06-11T10:04:15.954178Z",
     "start_time": "2025-06-11T10:04:15.946618Z"
    }
   },
   "cell_type": "code",
   "source": "matrix",
   "id": "e6ea2b6d6a189d8f",
   "outputs": [
    {
     "data": {
      "text/plain": [
       "[[1, 0, 0, 0, 0],\n",
       " [0, 1, 0, 0, 0],\n",
       " [0, 0, 1, 0, 0],\n",
       " [0, 0, 0, 1, 0],\n",
       " [0, 0, 0, 0, 1]]"
      ]
     },
     "execution_count": 21,
     "metadata": {},
     "output_type": "execute_result"
    }
   ],
   "execution_count": 21
  },
  {
   "metadata": {
    "ExecuteTime": {
     "end_time": "2025-06-11T10:05:55.707473Z",
     "start_time": "2025-06-11T10:05:55.702967Z"
    }
   },
   "cell_type": "code",
   "source": "data = [10,20,30]",
   "id": "de5d30d5c41905ca",
   "outputs": [],
   "execution_count": 22
  },
  {
   "metadata": {
    "ExecuteTime": {
     "end_time": "2025-06-11T10:06:03.679859Z",
     "start_time": "2025-06-11T10:06:03.671992Z"
    }
   },
   "cell_type": "code",
   "source": "enumerate(data)",
   "id": "50b0bffb79cc2820",
   "outputs": [
    {
     "data": {
      "text/plain": [
       "<enumerate at 0x75ae9eaf7ab0>"
      ]
     },
     "execution_count": 23,
     "metadata": {},
     "output_type": "execute_result"
    }
   ],
   "execution_count": 23
  },
  {
   "metadata": {
    "ExecuteTime": {
     "end_time": "2025-06-11T10:06:29.799009Z",
     "start_time": "2025-06-11T10:06:29.794278Z"
    }
   },
   "cell_type": "code",
   "source": "list(enumerate(data))",
   "id": "7f7f8194ff4f50c8",
   "outputs": [
    {
     "data": {
      "text/plain": [
       "[(0, 10), (1, 20), (2, 30)]"
      ]
     },
     "execution_count": 24,
     "metadata": {},
     "output_type": "execute_result"
    }
   ],
   "execution_count": 24
  },
  {
   "metadata": {
    "ExecuteTime": {
     "end_time": "2025-06-11T10:07:11.253418Z",
     "start_time": "2025-06-11T10:07:11.250747Z"
    }
   },
   "cell_type": "code",
   "source": [
    "for t in enumerate(data):\n",
    "    print(t)"
   ],
   "id": "6a66ee63fb3a317c",
   "outputs": [
    {
     "name": "stdout",
     "output_type": "stream",
     "text": [
      "(0, 10)\n",
      "(1, 20)\n",
      "(2, 30)\n"
     ]
    }
   ],
   "execution_count": 25
  },
  {
   "metadata": {
    "ExecuteTime": {
     "end_time": "2025-06-11T10:07:42.550128Z",
     "start_time": "2025-06-11T10:07:42.543317Z"
    }
   },
   "cell_type": "code",
   "source": [
    "for idx,el in enumerate(data):\n",
    "    print(idx,el)"
   ],
   "id": "775e1d4230360b95",
   "outputs": [
    {
     "name": "stdout",
     "output_type": "stream",
     "text": [
      "0 10\n",
      "1 20\n",
      "2 30\n"
     ]
    }
   ],
   "execution_count": 26
  },
  {
   "metadata": {
    "ExecuteTime": {
     "end_time": "2025-06-11T10:08:14.700603Z",
     "start_time": "2025-06-11T10:08:14.695004Z"
    }
   },
   "cell_type": "code",
   "source": [
    "m = [\n",
    "    [0,1],\n",
    "    [2,3,4,5,6],\n",
    "    [7,8,9],\n",
    "    [10]\n",
    "]"
   ],
   "id": "268129b3013fb786",
   "outputs": [],
   "execution_count": 27
  },
  {
   "metadata": {
    "ExecuteTime": {
     "end_time": "2025-06-11T10:08:45.760233Z",
     "start_time": "2025-06-11T10:08:45.753631Z"
    }
   },
   "cell_type": "code",
   "source": [
    "for row_idx in range(len(m)):\n",
    "    for col_idx in range(len(m[row_idx])):\n",
    "        print(f'[{row_idx},{col_idx}] = {m[row_idx][col_idx]}')"
   ],
   "id": "158d4f11b2007e4f",
   "outputs": [
    {
     "name": "stdout",
     "output_type": "stream",
     "text": [
      "[0,0] = 0\n",
      "[0,1] = 1\n",
      "[1,0] = 2\n",
      "[1,1] = 3\n",
      "[1,2] = 4\n",
      "[1,3] = 5\n",
      "[1,4] = 6\n",
      "[2,0] = 7\n",
      "[2,1] = 8\n",
      "[2,2] = 9\n",
      "[3,0] = 10\n"
     ]
    }
   ],
   "execution_count": 28
  },
  {
   "metadata": {
    "ExecuteTime": {
     "end_time": "2025-06-11T10:10:15.156687Z",
     "start_time": "2025-06-11T10:10:15.150622Z"
    }
   },
   "cell_type": "code",
   "source": [
    "for row in m:\n",
    "    for element in row:\n",
    "        print(element)"
   ],
   "id": "70046f501f1413ab",
   "outputs": [
    {
     "name": "stdout",
     "output_type": "stream",
     "text": [
      "0\n",
      "1\n",
      "2\n",
      "3\n",
      "4\n",
      "5\n",
      "6\n",
      "7\n",
      "8\n",
      "9\n",
      "10\n"
     ]
    }
   ],
   "execution_count": 31
  },
  {
   "metadata": {
    "ExecuteTime": {
     "end_time": "2025-06-11T10:13:34.425857Z",
     "start_time": "2025-06-11T10:13:34.419658Z"
    }
   },
   "cell_type": "code",
   "source": [
    "for row_idx,row in enumerate(m):\n",
    "    for col_idx, element in enumerate(row):\n",
    "        print(row_idx,col_idx,element)"
   ],
   "id": "72dea8a2ee54c2b7",
   "outputs": [
    {
     "name": "stdout",
     "output_type": "stream",
     "text": [
      "0 0 0\n",
      "0 1 1\n",
      "1 0 2\n",
      "1 1 3\n",
      "1 2 4\n",
      "1 3 5\n",
      "1 4 6\n",
      "2 0 7\n",
      "2 1 8\n",
      "2 2 9\n",
      "3 0 10\n"
     ]
    }
   ],
   "execution_count": 34
  },
  {
   "metadata": {},
   "cell_type": "code",
   "outputs": [],
   "execution_count": null,
   "source": "",
   "id": "2fb12bec2405118c"
  }
 ],
 "metadata": {},
 "nbformat": 4,
 "nbformat_minor": 5
}
